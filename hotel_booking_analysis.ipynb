{
  "nbformat": 4,
  "nbformat_minor": 0,
  "metadata": {
    "colab": {
      "provenance": [],
      "collapsed_sections": [
        "vncDsAP0Gaoa",
        "FJNUwmbgGyua",
        "w6K7xa23Elo4",
        "yQaldy8SH6Dl",
        "PH-0ReGfmX4f",
        "mDgbUHAGgjLW",
        "HhfV-JJviCcP",
        "H0kj-8xxnORC",
        "nA9Y7ga8ng1Z",
        "dauF4eBmngu3",
        "GF8Ens_Soomf",
        "JcMwzZxoAimU",
        "gCX9965dhzqZ"
      ]
    },
    "kernelspec": {
      "name": "python3",
      "display_name": "Python 3"
    },
    "language_info": {
      "name": "python"
    }
  },
  "cells": [
    {
      "cell_type": "markdown",
      "source": [
        "# **Project Name**    -\n",
        "\n"
      ],
      "metadata": {
        "id": "vncDsAP0Gaoa"
      }
    },
    {
      "cell_type": "markdown",
      "source": [
        "##### **Project Type**    - **EDA (Exploratory Data Analysis)**\n",
        "\n",
        "##### **Contribution**    - **Individual**"
      ],
      "metadata": {
        "id": "beRrZCGUAJYm"
      }
    },
    {
      "cell_type": "markdown",
      "source": [
        "# **Project Summary -**"
      ],
      "metadata": {
        "id": "FJNUwmbgGyua"
      }
    },
    {
      "cell_type": "markdown",
      "source": [
        "###**Hotel Booking Analysis**\n",
        "\n",
        "**Objective:**\n",
        "The Hotel Booking Analysis project aims to provide actionable insights from hotel reservation data to enhance operational efficiency, optimize marketing strategies, and improve guest experiences. By analyzing booking patterns, meal preferences, geographic distribution, and pricing trends, the project seeks to offer data-driven recommendations that align with business goals and contribute to overall success.\n",
        "\n",
        "**Scope of Analysis:**\n",
        "The analysis focuses on several key areas:\n",
        "\n",
        "**Booking Status:** Understanding the proportion of canceled versus non-canceled bookings to identify trends and areas for improvement in booking management.\n",
        "\n",
        "**Booking Timing:** Analyzing average lead times and seasonal trends to better understand booking behavior and plan marketing strategies.\n",
        "\n",
        "**Meal Preferences:** Examining the distribution of meal types to tailor offerings and promotional efforts based on guest preferences.\n",
        "\n",
        "**Geographic Distribution:** Identifying top countries generating bookings to inform targeted marketing campaigns and strategic partnerships.\n",
        "\n",
        "**Repeated Guests:** Assessing the proportion of repeated versus new guests to develop strategies for enhancing guest retention.\n",
        "\n",
        "**ADR Analysis:** Analyzing the Average Daily Rate (ADR) by month to understand pricing trends and optimize revenue management.\n",
        "\n",
        "**Booking Seasonality:** Identifying which months have the highest and lowest number of bookings to guide marketing efforts and resource planning.\n",
        "\n",
        "**Data Overview:**\n",
        "The dataset includes comprehensive information on hotel reservations, including variables such as booking status (is_canceled), lead time (lead_time), arrival date (arrival_date_month), meal preferences (meal), geographic details (country), and pricing (adr).\n",
        "\n",
        "The dataset provides a detailed view of booking behavior and guest preferences, enabling a thorough analysis of various aspects of hotel operations.\n",
        "\n",
        "**Data Preparation and Manipulation:**\n",
        "\n",
        "**Handling Missing Values:** Missing values were addressed through imputation techniques, using median and mean values for numerical columns and the mode for categorical columns.\n",
        "\n",
        "Duplicate records were removed, and irrelevant rows were filtered out.\n",
        "\n",
        "**Data Type Conversion:** Data types were adjusted for consistency and accuracy, ensuring that all variables were in appropriate formats for analysis.\n",
        "\n",
        "**Key Findings:**\n",
        "\n",
        "**Booking Status:** A significant proportion of bookings were canceled, highlighting the need for strategies to reduce cancellations and improve booking reliability.\n",
        "\n",
        "**Booking Timing:** Trends revealed peak booking periods and variations in lead times, allowing for targeted marketing during high-demand months and better planning for resource allocation.\n",
        "\n",
        "**Meal Preferences:** Bed & Breakfast (BB) emerged as the most popular meal type, guiding menu and promotional strategies.\n",
        "\n",
        "**Geographic Distribution:** The analysis identified top countries contributing to bookings, suggesting opportunities for focused marketing efforts in these regions.\n",
        "\n",
        "**Repeated Guests:** A small percentage of repeated guests indicated a need for improved guest retention strategies.\n",
        "\n",
        "**ADR Analysis:** Seasonal variations in ADR were observed, with August having the highest rates and January the lowest, informing pricing strategies and revenue management practices.\n",
        "\n",
        "**Booking Seasonality:** December, October, and November were identified as peak booking months for 2015 and 2016, while August, July, and June were peak months for 2017, guiding marketing efforts for these periods.\n",
        "\n",
        "\n",
        "The Hotel Booking Analysis project provides a comprehensive overview of booking behaviors, preferences, and trends. The insights gained will enable the hotel to optimize its operations, refine marketing strategies, and enhance the overall guest experience. By leveraging these findings, the hotel can achieve its business objectives and drive continued success."
      ],
      "metadata": {
        "id": "F6v_1wHtG2nS"
      }
    },
    {
      "cell_type": "markdown",
      "source": [
        "# **GitHub Link -**"
      ],
      "metadata": {
        "id": "w6K7xa23Elo4"
      }
    },
    {
      "cell_type": "markdown",
      "source": [
        "Provide your GitHub Link here."
      ],
      "metadata": {
        "id": "h1o69JH3Eqqn"
      }
    },
    {
      "cell_type": "markdown",
      "source": [
        "# **Problem Statement**\n"
      ],
      "metadata": {
        "id": "yQaldy8SH6Dl"
      }
    },
    {
      "cell_type": "markdown",
      "source": [
        "The hotel faces challenges in optimizing its operations, marketing strategies, and guest experiences due to a lack of clear understanding of booking behaviors, guest preferences, and pricing trends. High cancellation rates, fluctuating booking volumes across seasons, and varying preferences for meal types and booking lead times create inefficiencies and missed opportunities.\n",
        "\n",
        "This analysis aims to uncover actionable insights from the hotel’s booking data, enabling data-driven decision-making to enhance operational efficiency, target the right markets, and improve overall guest satisfaction."
      ],
      "metadata": {
        "id": "DpeJGUA3kjGy"
      }
    },
    {
      "cell_type": "markdown",
      "source": [
        "#### **Define Your Business Objective?**"
      ],
      "metadata": {
        "id": "PH-0ReGfmX4f"
      }
    },
    {
      "cell_type": "markdown",
      "source": [
        "The business objective for the Hotel Booking Analysis project is to optimize the hotel's operations, marketing strategies, and guest experiences by leveraging data-driven insights. The primary goals include:\n",
        "\n",
        "**Reducing Booking Cancellations:** Identify patterns leading to cancellations and implement strategies to minimize them, improving booking reliability and revenue stability.\n",
        "\n",
        "**Maximizing Revenue:** Analyze pricing trends, particularly the Average Daily Rate (ADR), to adjust pricing strategies during peak and off-peak seasons, ensuring optimal revenue generation.\n",
        "\n",
        "**Enhancing Guest Satisfaction and Retention:** Understand guest preferences, such as meal choices and booking patterns, to tailor offerings, improve service quality, and increase guest loyalty.\n",
        "\n",
        "**Targeted Marketing:** Focus marketing efforts on high-potential markets and peak booking periods, informed by geographic distribution and booking seasonality analysis, to attract more guests and fill occupancy gaps.\n",
        "\n",
        "By achieving these objectives, the hotel can enhance its market position, improve operational efficiency, and increase overall profitability."
      ],
      "metadata": {
        "id": "PhDvGCAqmjP1"
      }
    },
    {
      "cell_type": "markdown",
      "source": [
        "# **General Guidelines** : -  "
      ],
      "metadata": {
        "id": "mDgbUHAGgjLW"
      }
    },
    {
      "cell_type": "markdown",
      "source": [
        "1.   Well-structured, formatted, and commented code is required.\n",
        "2.   Exception Handling, Production Grade Code & Deployment Ready Code will be a plus. Those students will be awarded some additional credits.\n",
        "     \n",
        "     The additional credits will have advantages over other students during Star Student selection.\n",
        "       \n",
        "             [ Note: - Deployment Ready Code is defined as, the whole .ipynb notebook should be executable in one go\n",
        "                       without a single error logged. ]\n",
        "\n",
        "3.   Each and every logic should have proper comments.\n",
        "4. You may add as many number of charts you want. Make Sure for each and every chart the following format should be answered.\n",
        "        \n",
        "\n",
        "```\n",
        "# Chart visualization code\n",
        "```\n",
        "            \n",
        "\n",
        "*   Why did you pick the specific chart?\n",
        "*   What is/are the insight(s) found from the chart?\n",
        "* Will the gained insights help creating a positive business impact?\n",
        "Are there any insights that lead to negative growth? Justify with specific reason.\n",
        "\n",
        "5. You have to create at least 20 logical & meaningful charts having important insights.\n",
        "\n",
        "\n",
        "[ Hints : - Do the Vizualization in  a structured way while following \"UBM\" Rule.\n",
        "\n",
        "U - Univariate Analysis,\n",
        "\n",
        "B - Bivariate Analysis (Numerical - Categorical, Numerical - Numerical, Categorical - Categorical)\n",
        "\n",
        "M - Multivariate Analysis\n",
        " ]\n",
        "\n",
        "\n",
        "\n"
      ],
      "metadata": {
        "id": "ZrxVaUj-hHfC"
      }
    },
    {
      "cell_type": "markdown",
      "source": [
        "# ***Let's Begin !***"
      ],
      "metadata": {
        "id": "O_i_v8NEhb9l"
      }
    },
    {
      "cell_type": "markdown",
      "source": [
        "## ***1. Know Your Data***"
      ],
      "metadata": {
        "id": "HhfV-JJviCcP"
      }
    },
    {
      "cell_type": "markdown",
      "source": [
        "### Import Libraries"
      ],
      "metadata": {
        "id": "Y3lxredqlCYt"
      }
    },
    {
      "cell_type": "code",
      "source": [
        "# Import Libraries\n",
        "\n",
        "import pandas as pd  # For data manipulation and analysis\n",
        "import numpy as np  # For numerical operations\n",
        "import matplotlib.pyplot as plt  # For creating visualizations\n",
        "import seaborn as sns  # For statistical data visualization"
      ],
      "metadata": {
        "id": "M8Vqi-pPk-HR"
      },
      "execution_count": 1,
      "outputs": []
    },
    {
      "cell_type": "markdown",
      "source": [
        "### Dataset Loading"
      ],
      "metadata": {
        "id": "3RnN4peoiCZX"
      }
    },
    {
      "cell_type": "code",
      "source": [
        "# Load Dataset\n",
        "from google.colab import files\n",
        "import io\n",
        "\n",
        "# Upload the File\n",
        "uploaded = files.upload()\n",
        "\n",
        "# Get the File Name\n",
        "file_name = next(iter(uploaded))\n",
        "\n",
        "# Loading DataSet into DataFrame\n",
        "hotel_df = pd.read_csv(io.BytesIO(uploaded[file_name]))"
      ],
      "metadata": {
        "id": "4CkvbW_SlZ_R",
        "colab": {
          "base_uri": "https://localhost:8080/",
          "height": 73
        },
        "outputId": "2db63a34-4a99-455b-baea-a5a9dae8e033"
      },
      "execution_count": 2,
      "outputs": [
        {
          "output_type": "display_data",
          "data": {
            "text/plain": [
              "<IPython.core.display.HTML object>"
            ],
            "text/html": [
              "\n",
              "     <input type=\"file\" id=\"files-c4a14d5d-ffda-4886-8f81-07514e5221bd\" name=\"files[]\" multiple disabled\n",
              "        style=\"border:none\" />\n",
              "     <output id=\"result-c4a14d5d-ffda-4886-8f81-07514e5221bd\">\n",
              "      Upload widget is only available when the cell has been executed in the\n",
              "      current browser session. Please rerun this cell to enable.\n",
              "      </output>\n",
              "      <script>// Copyright 2017 Google LLC\n",
              "//\n",
              "// Licensed under the Apache License, Version 2.0 (the \"License\");\n",
              "// you may not use this file except in compliance with the License.\n",
              "// You may obtain a copy of the License at\n",
              "//\n",
              "//      http://www.apache.org/licenses/LICENSE-2.0\n",
              "//\n",
              "// Unless required by applicable law or agreed to in writing, software\n",
              "// distributed under the License is distributed on an \"AS IS\" BASIS,\n",
              "// WITHOUT WARRANTIES OR CONDITIONS OF ANY KIND, either express or implied.\n",
              "// See the License for the specific language governing permissions and\n",
              "// limitations under the License.\n",
              "\n",
              "/**\n",
              " * @fileoverview Helpers for google.colab Python module.\n",
              " */\n",
              "(function(scope) {\n",
              "function span(text, styleAttributes = {}) {\n",
              "  const element = document.createElement('span');\n",
              "  element.textContent = text;\n",
              "  for (const key of Object.keys(styleAttributes)) {\n",
              "    element.style[key] = styleAttributes[key];\n",
              "  }\n",
              "  return element;\n",
              "}\n",
              "\n",
              "// Max number of bytes which will be uploaded at a time.\n",
              "const MAX_PAYLOAD_SIZE = 100 * 1024;\n",
              "\n",
              "function _uploadFiles(inputId, outputId) {\n",
              "  const steps = uploadFilesStep(inputId, outputId);\n",
              "  const outputElement = document.getElementById(outputId);\n",
              "  // Cache steps on the outputElement to make it available for the next call\n",
              "  // to uploadFilesContinue from Python.\n",
              "  outputElement.steps = steps;\n",
              "\n",
              "  return _uploadFilesContinue(outputId);\n",
              "}\n",
              "\n",
              "// This is roughly an async generator (not supported in the browser yet),\n",
              "// where there are multiple asynchronous steps and the Python side is going\n",
              "// to poll for completion of each step.\n",
              "// This uses a Promise to block the python side on completion of each step,\n",
              "// then passes the result of the previous step as the input to the next step.\n",
              "function _uploadFilesContinue(outputId) {\n",
              "  const outputElement = document.getElementById(outputId);\n",
              "  const steps = outputElement.steps;\n",
              "\n",
              "  const next = steps.next(outputElement.lastPromiseValue);\n",
              "  return Promise.resolve(next.value.promise).then((value) => {\n",
              "    // Cache the last promise value to make it available to the next\n",
              "    // step of the generator.\n",
              "    outputElement.lastPromiseValue = value;\n",
              "    return next.value.response;\n",
              "  });\n",
              "}\n",
              "\n",
              "/**\n",
              " * Generator function which is called between each async step of the upload\n",
              " * process.\n",
              " * @param {string} inputId Element ID of the input file picker element.\n",
              " * @param {string} outputId Element ID of the output display.\n",
              " * @return {!Iterable<!Object>} Iterable of next steps.\n",
              " */\n",
              "function* uploadFilesStep(inputId, outputId) {\n",
              "  const inputElement = document.getElementById(inputId);\n",
              "  inputElement.disabled = false;\n",
              "\n",
              "  const outputElement = document.getElementById(outputId);\n",
              "  outputElement.innerHTML = '';\n",
              "\n",
              "  const pickedPromise = new Promise((resolve) => {\n",
              "    inputElement.addEventListener('change', (e) => {\n",
              "      resolve(e.target.files);\n",
              "    });\n",
              "  });\n",
              "\n",
              "  const cancel = document.createElement('button');\n",
              "  inputElement.parentElement.appendChild(cancel);\n",
              "  cancel.textContent = 'Cancel upload';\n",
              "  const cancelPromise = new Promise((resolve) => {\n",
              "    cancel.onclick = () => {\n",
              "      resolve(null);\n",
              "    };\n",
              "  });\n",
              "\n",
              "  // Wait for the user to pick the files.\n",
              "  const files = yield {\n",
              "    promise: Promise.race([pickedPromise, cancelPromise]),\n",
              "    response: {\n",
              "      action: 'starting',\n",
              "    }\n",
              "  };\n",
              "\n",
              "  cancel.remove();\n",
              "\n",
              "  // Disable the input element since further picks are not allowed.\n",
              "  inputElement.disabled = true;\n",
              "\n",
              "  if (!files) {\n",
              "    return {\n",
              "      response: {\n",
              "        action: 'complete',\n",
              "      }\n",
              "    };\n",
              "  }\n",
              "\n",
              "  for (const file of files) {\n",
              "    const li = document.createElement('li');\n",
              "    li.append(span(file.name, {fontWeight: 'bold'}));\n",
              "    li.append(span(\n",
              "        `(${file.type || 'n/a'}) - ${file.size} bytes, ` +\n",
              "        `last modified: ${\n",
              "            file.lastModifiedDate ? file.lastModifiedDate.toLocaleDateString() :\n",
              "                                    'n/a'} - `));\n",
              "    const percent = span('0% done');\n",
              "    li.appendChild(percent);\n",
              "\n",
              "    outputElement.appendChild(li);\n",
              "\n",
              "    const fileDataPromise = new Promise((resolve) => {\n",
              "      const reader = new FileReader();\n",
              "      reader.onload = (e) => {\n",
              "        resolve(e.target.result);\n",
              "      };\n",
              "      reader.readAsArrayBuffer(file);\n",
              "    });\n",
              "    // Wait for the data to be ready.\n",
              "    let fileData = yield {\n",
              "      promise: fileDataPromise,\n",
              "      response: {\n",
              "        action: 'continue',\n",
              "      }\n",
              "    };\n",
              "\n",
              "    // Use a chunked sending to avoid message size limits. See b/62115660.\n",
              "    let position = 0;\n",
              "    do {\n",
              "      const length = Math.min(fileData.byteLength - position, MAX_PAYLOAD_SIZE);\n",
              "      const chunk = new Uint8Array(fileData, position, length);\n",
              "      position += length;\n",
              "\n",
              "      const base64 = btoa(String.fromCharCode.apply(null, chunk));\n",
              "      yield {\n",
              "        response: {\n",
              "          action: 'append',\n",
              "          file: file.name,\n",
              "          data: base64,\n",
              "        },\n",
              "      };\n",
              "\n",
              "      let percentDone = fileData.byteLength === 0 ?\n",
              "          100 :\n",
              "          Math.round((position / fileData.byteLength) * 100);\n",
              "      percent.textContent = `${percentDone}% done`;\n",
              "\n",
              "    } while (position < fileData.byteLength);\n",
              "  }\n",
              "\n",
              "  // All done.\n",
              "  yield {\n",
              "    response: {\n",
              "      action: 'complete',\n",
              "    }\n",
              "  };\n",
              "}\n",
              "\n",
              "scope.google = scope.google || {};\n",
              "scope.google.colab = scope.google.colab || {};\n",
              "scope.google.colab._files = {\n",
              "  _uploadFiles,\n",
              "  _uploadFilesContinue,\n",
              "};\n",
              "})(self);\n",
              "</script> "
            ]
          },
          "metadata": {}
        },
        {
          "output_type": "stream",
          "name": "stdout",
          "text": [
            "Saving Hotel Bookings.csv to Hotel Bookings.csv\n"
          ]
        }
      ]
    },
    {
      "cell_type": "markdown",
      "source": [
        "### Dataset First View"
      ],
      "metadata": {
        "id": "x71ZqKXriCWQ"
      }
    },
    {
      "cell_type": "code",
      "source": [
        "# Dataset First Look\n",
        "print(\"First few rows of the dataset:\")\n",
        "print(hotel_df.head())"
      ],
      "metadata": {
        "id": "LWNFOSvLl09H",
        "colab": {
          "base_uri": "https://localhost:8080/"
        },
        "outputId": "ec9f4bbe-ff2c-4e28-dfb2-8d4385c1098f"
      },
      "execution_count": 3,
      "outputs": [
        {
          "output_type": "stream",
          "name": "stdout",
          "text": [
            "First few rows of the dataset:\n",
            "          hotel  is_canceled  lead_time  arrival_date_year arrival_date_month  \\\n",
            "0  Resort Hotel            0        342               2015               July   \n",
            "1  Resort Hotel            0        737               2015               July   \n",
            "2  Resort Hotel            0          7               2015               July   \n",
            "3  Resort Hotel            0         13               2015               July   \n",
            "4  Resort Hotel            0         14               2015               July   \n",
            "\n",
            "   arrival_date_week_number  arrival_date_day_of_month  \\\n",
            "0                        27                          1   \n",
            "1                        27                          1   \n",
            "2                        27                          1   \n",
            "3                        27                          1   \n",
            "4                        27                          1   \n",
            "\n",
            "   stays_in_weekend_nights  stays_in_week_nights  adults  ...  deposit_type  \\\n",
            "0                        0                     0       2  ...    No Deposit   \n",
            "1                        0                     0       2  ...    No Deposit   \n",
            "2                        0                     1       1  ...    No Deposit   \n",
            "3                        0                     1       1  ...    No Deposit   \n",
            "4                        0                     2       2  ...    No Deposit   \n",
            "\n",
            "   agent company days_in_waiting_list customer_type   adr  \\\n",
            "0    NaN     NaN                    0     Transient   0.0   \n",
            "1    NaN     NaN                    0     Transient   0.0   \n",
            "2    NaN     NaN                    0     Transient  75.0   \n",
            "3  304.0     NaN                    0     Transient  75.0   \n",
            "4  240.0     NaN                    0     Transient  98.0   \n",
            "\n",
            "   required_car_parking_spaces  total_of_special_requests  reservation_status  \\\n",
            "0                            0                          0           Check-Out   \n",
            "1                            0                          0           Check-Out   \n",
            "2                            0                          0           Check-Out   \n",
            "3                            0                          0           Check-Out   \n",
            "4                            0                          1           Check-Out   \n",
            "\n",
            "  reservation_status_date  \n",
            "0              2015-07-01  \n",
            "1              2015-07-01  \n",
            "2              2015-07-02  \n",
            "3              2015-07-02  \n",
            "4              2015-07-03  \n",
            "\n",
            "[5 rows x 32 columns]\n"
          ]
        }
      ]
    },
    {
      "cell_type": "markdown",
      "source": [
        "### Dataset Rows & Columns count"
      ],
      "metadata": {
        "id": "7hBIi_osiCS2"
      }
    },
    {
      "cell_type": "code",
      "source": [
        "# Dataset Rows & Columns count\n",
        "\n",
        "# Get the number of rows and columns in the dataset\n",
        "num_rows,num_columns = hotel_df.shape\n",
        "\n",
        "# Print the number of rows and columns\n",
        "print(f\"Number of rows: {num_rows}\")\n",
        "print(f\"Number of columns: {num_columns}\")"
      ],
      "metadata": {
        "id": "Kllu7SJgmLij",
        "colab": {
          "base_uri": "https://localhost:8080/"
        },
        "outputId": "e2de9472-bb47-4a16-8c14-cae27b6534b3"
      },
      "execution_count": 4,
      "outputs": [
        {
          "output_type": "stream",
          "name": "stdout",
          "text": [
            "Number of rows: 119390\n",
            "Number of columns: 32\n"
          ]
        }
      ]
    },
    {
      "cell_type": "markdown",
      "source": [
        "### Dataset Information"
      ],
      "metadata": {
        "id": "JlHwYmJAmNHm"
      }
    },
    {
      "cell_type": "code",
      "source": [
        "# Dataset Info\n",
        "\n",
        "# Display detailed information about the dataset\n",
        "print(\"Dataset Information:\")\n",
        "hotel_df.info()"
      ],
      "metadata": {
        "id": "e9hRXRi6meOf",
        "colab": {
          "base_uri": "https://localhost:8080/"
        },
        "outputId": "f9ce3676-05f7-478e-f486-f9a718b6fb1b"
      },
      "execution_count": 5,
      "outputs": [
        {
          "output_type": "stream",
          "name": "stdout",
          "text": [
            "Dataset Information:\n",
            "<class 'pandas.core.frame.DataFrame'>\n",
            "RangeIndex: 119390 entries, 0 to 119389\n",
            "Data columns (total 32 columns):\n",
            " #   Column                          Non-Null Count   Dtype  \n",
            "---  ------                          --------------   -----  \n",
            " 0   hotel                           119390 non-null  object \n",
            " 1   is_canceled                     119390 non-null  int64  \n",
            " 2   lead_time                       119390 non-null  int64  \n",
            " 3   arrival_date_year               119390 non-null  int64  \n",
            " 4   arrival_date_month              119390 non-null  object \n",
            " 5   arrival_date_week_number        119390 non-null  int64  \n",
            " 6   arrival_date_day_of_month       119390 non-null  int64  \n",
            " 7   stays_in_weekend_nights         119390 non-null  int64  \n",
            " 8   stays_in_week_nights            119390 non-null  int64  \n",
            " 9   adults                          119390 non-null  int64  \n",
            " 10  children                        119386 non-null  float64\n",
            " 11  babies                          119390 non-null  int64  \n",
            " 12  meal                            119390 non-null  object \n",
            " 13  country                         118902 non-null  object \n",
            " 14  market_segment                  119390 non-null  object \n",
            " 15  distribution_channel            119390 non-null  object \n",
            " 16  is_repeated_guest               119390 non-null  int64  \n",
            " 17  previous_cancellations          119390 non-null  int64  \n",
            " 18  previous_bookings_not_canceled  119390 non-null  int64  \n",
            " 19  reserved_room_type              119390 non-null  object \n",
            " 20  assigned_room_type              119390 non-null  object \n",
            " 21  booking_changes                 119390 non-null  int64  \n",
            " 22  deposit_type                    119390 non-null  object \n",
            " 23  agent                           103050 non-null  float64\n",
            " 24  company                         6797 non-null    float64\n",
            " 25  days_in_waiting_list            119390 non-null  int64  \n",
            " 26  customer_type                   119390 non-null  object \n",
            " 27  adr                             119390 non-null  float64\n",
            " 28  required_car_parking_spaces     119390 non-null  int64  \n",
            " 29  total_of_special_requests       119390 non-null  int64  \n",
            " 30  reservation_status              119390 non-null  object \n",
            " 31  reservation_status_date         119390 non-null  object \n",
            "dtypes: float64(4), int64(16), object(12)\n",
            "memory usage: 29.1+ MB\n"
          ]
        }
      ]
    },
    {
      "cell_type": "markdown",
      "source": [
        "#### Duplicate Values"
      ],
      "metadata": {
        "id": "35m5QtbWiB9F"
      }
    },
    {
      "cell_type": "code",
      "source": [
        "# Dataset Duplicate Value Count\n",
        "\n",
        "# Count the number of duplicate rows in the dataset\n",
        "duplicate_count = hotel_df.duplicated().sum()\n",
        "\n",
        "# Print the number of duplicate rows\n",
        "print(f\"Number of duplicate rows: {duplicate_count}\")"
      ],
      "metadata": {
        "id": "1sLdpKYkmox0",
        "colab": {
          "base_uri": "https://localhost:8080/"
        },
        "outputId": "c0be0222-a0a5-463c-9a2b-3595e463dc50"
      },
      "execution_count": 6,
      "outputs": [
        {
          "output_type": "stream",
          "name": "stdout",
          "text": [
            "Number of duplicate rows: 31994\n"
          ]
        }
      ]
    },
    {
      "cell_type": "markdown",
      "source": [
        "#### Missing Values/Null Values"
      ],
      "metadata": {
        "id": "PoPl-ycgm1ru"
      }
    },
    {
      "cell_type": "code",
      "source": [
        "# Missing Values/Null Values Count\n",
        "\n",
        "# Count the number of missing values in each column\n",
        "missing_values = hotel_df.isnull().sum()\n",
        "\n",
        "# Print the count of missing values for each column\n",
        "print(\"Missing values count for each column:\")\n",
        "print(missing_values[missing_values > 0])\n",
        "\n",
        "# Count of Missing Values\n",
        "missing_values_count = sum(missing_values)\n",
        "print(f'Count of Missing Values: {missing_values_count}')"
      ],
      "metadata": {
        "id": "GgHWkxvamxVg",
        "colab": {
          "base_uri": "https://localhost:8080/"
        },
        "outputId": "450c7c71-b2b1-4738-d680-24266d1a57f4"
      },
      "execution_count": 7,
      "outputs": [
        {
          "output_type": "stream",
          "name": "stdout",
          "text": [
            "Missing values count for each column:\n",
            "children         4\n",
            "country        488\n",
            "agent        16340\n",
            "company     112593\n",
            "dtype: int64\n",
            "Count of Missing Values: 129425\n"
          ]
        }
      ]
    },
    {
      "cell_type": "code",
      "source": [
        "# Visualizing the missing values\n",
        "\n",
        "# Create a heatmap to visualize missing values\n",
        "plt.figure(figsize=(6, 5))\n",
        "sns.heatmap(hotel_df.isnull(), cbar=False, cmap='coolwarm', yticklabels=False)\n",
        "\n",
        "# Add titles and labels\n",
        "plt.title('Heatmap of Missing Values')\n",
        "plt.xlabel('Columns')\n",
        "plt.ylabel('Rows')\n",
        "\n",
        "# Show the plot\n",
        "plt.show()"
      ],
      "metadata": {
        "id": "3q5wnI3om9sJ",
        "colab": {
          "base_uri": "https://localhost:8080/",
          "height": 701
        },
        "outputId": "79e14c18-5055-40f9-fa10-c583faf2e98e"
      },
      "execution_count": 8,
      "outputs": [
        {
          "output_type": "display_data",
          "data": {
            "text/plain": [
              "<Figure size 600x500 with 1 Axes>"
            ],
            "image/png": "[encoded data removed]"
          },
          "metadata": {}
        }
      ]
    },
    {
      "cell_type": "markdown",
      "source": [
        "### What did you know about your dataset?"
      ],
      "metadata": {
        "id": "H0kj-8xxnORC"
      }
    },
    {
      "cell_type": "markdown",
      "source": [
        "The dataset contains 119,390 entries with details on hotel bookings, such as hotel type, booking status (canceled or not), lead time, arrival date, stay duration, guest information (adults, children, babies), meal preferences, and booking history. It also includes data on special requests and parking requirements.\n",
        "\n",
        "Some columns have missing values, including children (4 missing), country (488 missing), agent (16,340 missing), and company (112,593 missing).\n",
        "\n",
        "**This dataset helps analyze booking patterns and trends, offering insights into reservation behaviors and factors impacting hotel bookings.**"
      ],
      "metadata": {
        "id": "gfoNAAC-nUe_"
      }
    },
    {
      "cell_type": "markdown",
      "source": [
        "## ***2. Understanding Your Variables***"
      ],
      "metadata": {
        "id": "nA9Y7ga8ng1Z"
      }
    },
    {
      "cell_type": "code",
      "source": [
        "# Dataset Columns\n",
        "\n",
        "# Check data types of each column\n",
        "print(\"Data types of each column:\")\n",
        "\n",
        "print(hotel_df.dtypes)"
      ],
      "metadata": {
        "id": "j7xfkqrt5Ag5",
        "colab": {
          "base_uri": "https://localhost:8080/"
        },
        "outputId": "b84580d8-4a6e-40b7-b1ea-9f2727f25f02"
      },
      "execution_count": 9,
      "outputs": [
        {
          "output_type": "stream",
          "name": "stdout",
          "text": [
            "Data types of each column:\n",
            "hotel                              object\n",
            "is_canceled                         int64\n",
            "lead_time                           int64\n",
            "arrival_date_year                   int64\n",
            "arrival_date_month                 object\n",
            "arrival_date_week_number            int64\n",
            "arrival_date_day_of_month           int64\n",
            "stays_in_weekend_nights             int64\n",
            "stays_in_week_nights                int64\n",
            "adults                              int64\n",
            "children                          float64\n",
            "babies                              int64\n",
            "meal                               object\n",
            "country                            object\n",
            "market_segment                     object\n",
            "distribution_channel               object\n",
            "is_repeated_guest                   int64\n",
            "previous_cancellations              int64\n",
            "previous_bookings_not_canceled      int64\n",
            "reserved_room_type                 object\n",
            "assigned_room_type                 object\n",
            "booking_changes                     int64\n",
            "deposit_type                       object\n",
            "agent                             float64\n",
            "company                           float64\n",
            "days_in_waiting_list                int64\n",
            "customer_type                      object\n",
            "adr                               float64\n",
            "required_car_parking_spaces         int64\n",
            "total_of_special_requests           int64\n",
            "reservation_status                 object\n",
            "reservation_status_date            object\n",
            "dtype: object\n",
            "\n"
          ]
        }
      ]
    },
    {
      "cell_type": "code",
      "source": [
        "# Dataset Describe\n",
        "# Get descriptive statistics of the dataset\n",
        "hotel_df.describe().T"
      ],
      "metadata": {
        "id": "DnOaZdaE5Q5t",
        "colab": {
          "base_uri": "https://localhost:8080/",
          "height": 676
        },
        "outputId": "9bc0ba18-63b7-412c-bd9b-dde7b7b1abd6"
      },
      "execution_count": 10,
      "outputs": [
        {
          "output_type": "execute_result",
          "data": {
            "text/plain": [
              "                                   count         mean         std      min  \\\n",
              "is_canceled                     119390.0     0.370416    0.482918     0.00   \n",
              "lead_time                       119390.0   104.011416  106.863097     0.00   \n",
              "arrival_date_year               119390.0  2016.156554    0.707476  2015.00   \n",
              "arrival_date_week_number        119390.0    27.165173   13.605138     1.00   \n",
              "arrival_date_day_of_month       119390.0    15.798241    8.780829     1.00   \n",
              "stays_in_weekend_nights         119390.0     0.927599    0.998613     0.00   \n",
              "stays_in_week_nights            119390.0     2.500302    1.908286     0.00   \n",
              "adults                          119390.0     1.856403    0.579261     0.00   \n",
              "children                        119386.0     0.103890    0.398561     0.00   \n",
              "babies                          119390.0     0.007949    0.097436     0.00   \n",
              "is_repeated_guest               119390.0     0.031912    0.175767     0.00   \n",
              "previous_cancellations          119390.0     0.087118    0.844336     0.00   \n",
              "previous_bookings_not_canceled  119390.0     0.137097    1.497437     0.00   \n",
              "booking_changes                 119390.0     0.221124    0.652306     0.00   \n",
              "agent                           103050.0    86.693382  110.774548     1.00   \n",
              "company                           6797.0   189.266735  131.655015     6.00   \n",
              "days_in_waiting_list            119390.0     2.321149   17.594721     0.00   \n",
              "adr                             119390.0   101.831122   50.535790    -6.38   \n",
              "required_car_parking_spaces     119390.0     0.062518    0.245291     0.00   \n",
              "total_of_special_requests       119390.0     0.571363    0.792798     0.00   \n",
              "\n",
              "                                    25%       50%     75%     max  \n",
              "is_canceled                        0.00     0.000     1.0     1.0  \n",
              "lead_time                         18.00    69.000   160.0   737.0  \n",
              "arrival_date_year               2016.00  2016.000  2017.0  2017.0  \n",
              "arrival_date_week_number          16.00    28.000    38.0    53.0  \n",
              "arrival_date_day_of_month          8.00    16.000    23.0    31.0  \n",
              "stays_in_weekend_nights            0.00     1.000     2.0    19.0  \n",
              "stays_in_week_nights               1.00     2.000     3.0    50.0  \n",
              "adults                             2.00     2.000     2.0    55.0  \n",
              "children                           0.00     0.000     0.0    10.0  \n",
              "babies                             0.00     0.000     0.0    10.0  \n",
              "is_repeated_guest                  0.00     0.000     0.0     1.0  \n",
              "previous_cancellations             0.00     0.000     0.0    26.0  \n",
              "previous_bookings_not_canceled     0.00     0.000     0.0    72.0  \n",
              "booking_changes                    0.00     0.000     0.0    21.0  \n",
              "agent                              9.00    14.000   229.0   535.0  \n",
              "company                           62.00   179.000   270.0   543.0  \n",
              "days_in_waiting_list               0.00     0.000     0.0   391.0  \n",
              "adr                               69.29    94.575   126.0  5400.0  \n",
              "required_car_parking_spaces        0.00     0.000     0.0     8.0  \n",
              "total_of_special_requests          0.00     0.000     1.0     5.0  "
            ],
            "text/html": [
              "\n",
              "  <div id=\"df-0b3ad0df-ddba-45c6-bcce-8df7f71a1237\" class=\"colab-df-container\">\n",
              "    <div>\n",
              "<style scoped>\n",
              "    .dataframe tbody tr th:only-of-type {\n",
              "        vertical-align: middle;\n",
              "    }\n",
              "\n",
              "    .dataframe tbody tr th {\n",
              "        vertical-align: top;\n",
              "    }\n",
              "\n",
              "    .dataframe thead th {\n",
              "        text-align: right;\n",
              "    }\n",
              "</style>\n",
              "<table border=\"1\" class=\"dataframe\">\n",
              "  <thead>\n",
              "    <tr style=\"text-align: right;\">\n",
              "      <th></th>\n",
              "      <th>count</th>\n",
              "      <th>mean</th>\n",
              "      <th>std</th>\n",
              "      <th>min</th>\n",
              "      <th>25%</th>\n",
              "      <th>50%</th>\n",
              "      <th>75%</th>\n",
              "      <th>max</th>\n",
              "    </tr>\n",
              "  </thead>\n",
              "  <tbody>\n",
              "    <tr>\n",
              "      <th>is_canceled</th>\n",
              "      <td>119390.0</td>\n",
              "      <td>0.370416</td>\n",
              "      <td>0.482918</td>\n",
              "      <td>0.00</td>\n",
              "      <td>0.00</td>\n",
              "      <td>0.000</td>\n",
              "      <td>1.0</td>\n",
              "      <td>1.0</td>\n",
              "    </tr>\n",
              "    <tr>\n",
              "      <th>lead_time</th>\n",
              "      <td>119390.0</td>\n",
              "      <td>104.011416</td>\n",
              "      <td>106.863097</td>\n",
              "      <td>0.00</td>\n",
              "      <td>18.00</td>\n",
              "      <td>69.000</td>\n",
              "      <td>160.0</td>\n",
              "      <td>737.0</td>\n",
              "    </tr>\n",
              "    <tr>\n",
              "      <th>arrival_date_year</th>\n",
              "      <td>119390.0</td>\n",
              "      <td>2016.156554</td>\n",
              "      <td>0.707476</td>\n",
              "      <td>2015.00</td>\n",
              "      <td>2016.00</td>\n",
              "      <td>2016.000</td>\n",
              "      <td>2017.0</td>\n",
              "      <td>2017.0</td>\n",
              "    </tr>\n",
              "    <tr>\n",
              "      <th>arrival_date_week_number</th>\n",
              "      <td>119390.0</td>\n",
              "      <td>27.165173</td>\n",
              "      <td>13.605138</td>\n",
              "      <td>1.00</td>\n",
              "      <td>16.00</td>\n",
              "      <td>28.000</td>\n",
              "      <td>38.0</td>\n",
              "      <td>53.0</td>\n",
              "    </tr>\n",
              "    <tr>\n",
              "      <th>arrival_date_day_of_month</th>\n",
              "      <td>119390.0</td>\n",
              "      <td>15.798241</td>\n",
              "      <td>8.780829</td>\n",
              "      <td>1.00</td>\n",
              "      <td>8.00</td>\n",
              "      <td>16.000</td>\n",
              "      <td>23.0</td>\n",
              "      <td>31.0</td>\n",
              "    </tr>\n",
              "    <tr>\n",
              "      <th>stays_in_weekend_nights</th>\n",
              "      <td>119390.0</td>\n",
              "      <td>0.927599</td>\n",
              "      <td>0.998613</td>\n",
              "      <td>0.00</td>\n",
              "      <td>0.00</td>\n",
              "      <td>1.000</td>\n",
              "      <td>2.0</td>\n",
              "      <td>19.0</td>\n",
              "    </tr>\n",
              "    <tr>\n",
              "      <th>stays_in_week_nights</th>\n",
              "      <td>119390.0</td>\n",
              "      <td>2.500302</td>\n",
              "      <td>1.908286</td>\n",
              "      <td>0.00</td>\n",
              "      <td>1.00</td>\n",
              "      <td>2.000</td>\n",
              "      <td>3.0</td>\n",
              "      <td>50.0</td>\n",
              "    </tr>\n",
              "    <tr>\n",
              "      <th>adults</th>\n",
              "      <td>119390.0</td>\n",
              "      <td>1.856403</td>\n",
              "      <td>0.579261</td>\n",
              "      <td>0.00</td>\n",
              "      <td>2.00</td>\n",
              "      <td>2.000</td>\n",
              "      <td>2.0</td>\n",
              "      <td>55.0</td>\n",
              "    </tr>\n",
              "    <tr>\n",
              "      <th>children</th>\n",
              "      <td>119386.0</td>\n",
              "      <td>0.103890</td>\n",
              "      <td>0.398561</td>\n",
              "      <td>0.00</td>\n",
              "      <td>0.00</td>\n",
              "      <td>0.000</td>\n",
              "      <td>0.0</td>\n",
              "      <td>10.0</td>\n",
              "    </tr>\n",
              "    <tr>\n",
              "      <th>babies</th>\n",
              "      <td>119390.0</td>\n",
              "      <td>0.007949</td>\n",
              "      <td>0.097436</td>\n",
              "      <td>0.00</td>\n",
              "      <td>0.00</td>\n",
              "      <td>0.000</td>\n",
              "      <td>0.0</td>\n",
              "      <td>10.0</td>\n",
              "    </tr>\n",
              "    <tr>\n",
              "      <th>is_repeated_guest</th>\n",
              "      <td>119390.0</td>\n",
              "      <td>0.031912</td>\n",
              "      <td>0.175767</td>\n",
              "      <td>0.00</td>\n",
              "      <td>0.00</td>\n",
              "      <td>0.000</td>\n",
              "      <td>0.0</td>\n",
              "      <td>1.0</td>\n",
              "    </tr>\n",
              "    <tr>\n",
              "      <th>previous_cancellations</th>\n",
              "      <td>119390.0</td>\n",
              "      <td>0.087118</td>\n",
              "      <td>0.844336</td>\n",
              "      <td>0.00</td>\n",
              "      <td>0.00</td>\n",
              "      <td>0.000</td>\n",
              "      <td>0.0</td>\n",
              "      <td>26.0</td>\n",
              "    </tr>\n",
              "    <tr>\n",
              "      <th>previous_bookings_not_canceled</th>\n",
              "      <td>119390.0</td>\n",
              "      <td>0.137097</td>\n",
              "      <td>1.497437</td>\n",
              "      <td>0.00</td>\n",
              "      <td>0.00</td>\n",
              "      <td>0.000</td>\n",
              "      <td>0.0</td>\n",
              "      <td>72.0</td>\n",
              "    </tr>\n",
              "    <tr>\n",
              "      <th>booking_changes</th>\n",
              "      <td>119390.0</td>\n",
              "      <td>0.221124</td>\n",
              "      <td>0.652306</td>\n",
              "      <td>0.00</td>\n",
              "      <td>0.00</td>\n",
              "      <td>0.000</td>\n",
              "      <td>0.0</td>\n",
              "      <td>21.0</td>\n",
              "    </tr>\n",
              "    <tr>\n",
              "      <th>agent</th>\n",
              "      <td>103050.0</td>\n",
              "      <td>86.693382</td>\n",
              "      <td>110.774548</td>\n",
              "      <td>1.00</td>\n",
              "      <td>9.00</td>\n",
              "      <td>14.000</td>\n",
              "      <td>229.0</td>\n",
              "      <td>535.0</td>\n",
              "    </tr>\n",
              "    <tr>\n",
              "      <th>company</th>\n",
              "      <td>6797.0</td>\n",
              "      <td>189.266735</td>\n",
              "      <td>131.655015</td>\n",
              "      <td>6.00</td>\n",
              "      <td>62.00</td>\n",
              "      <td>179.000</td>\n",
              "      <td>270.0</td>\n",
              "      <td>543.0</td>\n",
              "    </tr>\n",
              "    <tr>\n",
              "      <th>days_in_waiting_list</th>\n",
              "      <td>119390.0</td>\n",
              "      <td>2.321149</td>\n",
              "      <td>17.594721</td>\n",
              "      <td>0.00</td>\n",
              "      <td>0.00</td>\n",
              "      <td>0.000</td>\n",
              "      <td>0.0</td>\n",
              "      <td>391.0</td>\n",
              "    </tr>\n",
              "    <tr>\n",
              "      <th>adr</th>\n",
              "      <td>119390.0</td>\n",
              "      <td>101.831122</td>\n",
              "      <td>50.535790</td>\n",
              "      <td>-6.38</td>\n",
              "      <td>69.29</td>\n",
              "      <td>94.575</td>\n",
              "      <td>126.0</td>\n",
              "      <td>5400.0</td>\n",
              "    </tr>\n",
              "    <tr>\n",
              "      <th>required_car_parking_spaces</th>\n",
              "      <td>119390.0</td>\n",
              "      <td>0.062518</td>\n",
              "      <td>0.245291</td>\n",
              "      <td>0.00</td>\n",
              "      <td>0.00</td>\n",
              "      <td>0.000</td>\n",
              "      <td>0.0</td>\n",
              "      <td>8.0</td>\n",
              "    </tr>\n",
              "    <tr>\n",
              "      <th>total_of_special_requests</th>\n",
              "      <td>119390.0</td>\n",
              "      <td>0.571363</td>\n",
              "      <td>0.792798</td>\n",
              "      <td>0.00</td>\n",
              "      <td>0.00</td>\n",
              "      <td>0.000</td>\n",
              "      <td>1.0</td>\n",
              "      <td>5.0</td>\n",
              "    </tr>\n",
              "  </tbody>\n",
              "</table>\n",
              "</div>\n",
              "    <div class=\"colab-df-buttons\">\n",
              "\n",
              "  <div class=\"colab-df-container\">\n",
              "    <button class=\"colab-df-convert\" onclick=\"convertToInteractive('df-0b3ad0df-ddba-45c6-bcce-8df7f71a1237')\"\n",
              "            title=\"Convert this dataframe to an interactive table.\"\n",
              "            style=\"display:none;\">\n",
              "\n",
              "  <svg xmlns=\"http://www.w3.org/2000/svg\" height=\"24px\" viewBox=\"0 -960 960 960\">\n",
              "    <path d=\"M120-120v-720h720v720H120Zm60-500h600v-160H180v160Zm220 220h160v-160H400v160Zm0 220h160v-160H400v160ZM180-400h160v-160H180v160Zm440 0h160v-160H620v160ZM180-180h160v-160H180v160Zm440 0h160v-160H620v160Z\"/>\n",
              "  </svg>\n",
              "    </button>\n",
              "\n",
              "  <style>\n",
              "    .colab-df-container {\n",
              "      display:flex;\n",
              "      gap: 12px;\n",
              "    }\n",
              "\n",
              "    .colab-df-convert {\n",
              "      background-color: #E8F0FE;\n",
              "      border: none;\n",
              "      border-radius: 50%;\n",
              "      cursor: pointer;\n",
              "      display: none;\n",
              "      fill: #1967D2;\n",
              "      height: 32px;\n",
              "      padding: 0 0 0 0;\n",
              "      width: 32px;\n",
              "    }\n",
              "\n",
              "    .colab-df-convert:hover {\n",
              "      background-color: #E2EBFA;\n",
              "      box-shadow: 0px 1px 2px rgba(60, 64, 67, 0.3), 0px 1px 3px 1px rgba(60, 64, 67, 0.15);\n",
              "      fill: #174EA6;\n",
              "    }\n",
              "\n",
              "    .colab-df-buttons div {\n",
              "      margin-bottom: 4px;\n",
              "    }\n",
              "\n",
              "    [theme=dark] .colab-df-convert {\n",
              "      background-color: #3B4455;\n",
              "      fill: #D2E3FC;\n",
              "    }\n",
              "\n",
              "    [theme=dark] .colab-df-convert:hover {\n",
              "      background-color: #434B5C;\n",
              "      box-shadow: 0px 1px 3px 1px rgba(0, 0, 0, 0.15);\n",
              "      filter: drop-shadow(0px 1px 2px rgba(0, 0, 0, 0.3));\n",
              "      fill: #FFFFFF;\n",
              "    }\n",
              "  </style>\n",
              "\n",
              "    <script>\n",
              "      const buttonEl =\n",
              "        document.querySelector('#df-0b3ad0df-ddba-45c6-bcce-8df7f71a1237 button.colab-df-convert');\n",
              "      buttonEl.style.display =\n",
              "        google.colab.kernel.accessAllowed ? 'block' : 'none';\n",
              "\n",
              "      async function convertToInteractive(key) {\n",
              "        const element = document.querySelector('#df-0b3ad0df-ddba-45c6-bcce-8df7f71a1237');\n",
              "        const dataTable =\n",
              "          await google.colab.kernel.invokeFunction('convertToInteractive',\n",
              "                                                    [key], {});\n",
              "        if (!dataTable) return;\n",
              "\n",
              "        const docLinkHtml = 'Like what you see? Visit the ' +\n",
              "          '<a target=\"_blank\" href=https://colab.research.google.com/notebooks/data_table.ipynb>data table notebook</a>'\n",
              "          + ' to learn more about interactive tables.';\n",
              "        element.innerHTML = '';\n",
              "        dataTable['output_type'] = 'display_data';\n",
              "        await google.colab.output.renderOutput(dataTable, element);\n",
              "        const docLink = document.createElement('div');\n",
              "        docLink.innerHTML = docLinkHtml;\n",
              "        element.appendChild(docLink);\n",
              "      }\n",
              "    </script>\n",
              "  </div>\n",
              "\n",
              "\n",
              "<div id=\"df-ed663297-c29d-4ab4-96ed-b95e012991c0\">\n",
              "  <button class=\"colab-df-quickchart\" onclick=\"quickchart('df-ed663297-c29d-4ab4-96ed-b95e012991c0')\"\n",
              "            title=\"Suggest charts\"\n",
              "            style=\"display:none;\">\n",
              "\n",
              "<svg xmlns=\"http://www.w3.org/2000/svg\" height=\"24px\"viewBox=\"0 0 24 24\"\n",
              "     width=\"24px\">\n",
              "    <g>\n",
              "        <path d=\"M19 3H5c-1.1 0-2 .9-2 2v14c0 1.1.9 2 2 2h14c1.1 0 2-.9 2-2V5c0-1.1-.9-2-2-2zM9 17H7v-7h2v7zm4 0h-2V7h2v10zm4 0h-2v-4h2v4z\"/>\n",
              "    </g>\n",
              "</svg>\n",
              "  </button>\n",
              "\n",
              "<style>\n",
              "  .colab-df-quickchart {\n",
              "      --bg-color: #E8F0FE;\n",
              "      --fill-color: #1967D2;\n",
              "      --hover-bg-color: #E2EBFA;\n",
              "      --hover-fill-color: #174EA6;\n",
              "      --disabled-fill-color: #AAA;\n",
              "      --disabled-bg-color: #DDD;\n",
              "  }\n",
              "\n",
              "  [theme=dark] .colab-df-quickchart {\n",
              "      --bg-color: #3B4455;\n",
              "      --fill-color: #D2E3FC;\n",
              "      --hover-bg-color: #434B5C;\n",
              "      --hover-fill-color: #FFFFFF;\n",
              "      --disabled-bg-color: #3B4455;\n",
              "      --disabled-fill-color: #666;\n",
              "  }\n",
              "\n",
              "  .colab-df-quickchart {\n",
              "    background-color: var(--bg-color);\n",
              "    border: none;\n",
              "    border-radius: 50%;\n",
              "    cursor: pointer;\n",
              "    display: none;\n",
              "    fill: var(--fill-color);\n",
              "    height: 32px;\n",
              "    padding: 0;\n",
              "    width: 32px;\n",
              "  }\n",
              "\n",
              "  .colab-df-quickchart:hover {\n",
              "    background-color: var(--hover-bg-color);\n",
              "    box-shadow: 0 1px 2px rgba(60, 64, 67, 0.3), 0 1px 3px 1px rgba(60, 64, 67, 0.15);\n",
              "    fill: var(--button-hover-fill-color);\n",
              "  }\n",
              "\n",
              "  .colab-df-quickchart-complete:disabled,\n",
              "  .colab-df-quickchart-complete:disabled:hover {\n",
              "    background-color: var(--disabled-bg-color);\n",
              "    fill: var(--disabled-fill-color);\n",
              "    box-shadow: none;\n",
              "  }\n",
              "\n",
              "  .colab-df-spinner {\n",
              "    border: 2px solid var(--fill-color);\n",
              "    border-color: transparent;\n",
              "    border-bottom-color: var(--fill-color);\n",
              "    animation:\n",
              "      spin 1s steps(1) infinite;\n",
              "  }\n",
              "\n",
              "  @keyframes spin {\n",
              "    0% {\n",
              "      border-color: transparent;\n",
              "      border-bottom-color: var(--fill-color);\n",
              "      border-left-color: var(--fill-color);\n",
              "    }\n",
              "    20% {\n",
              "      border-color: transparent;\n",
              "      border-left-color: var(--fill-color);\n",
              "      border-top-color: var(--fill-color);\n",
              "    }\n",
              "    30% {\n",
              "      border-color: transparent;\n",
              "      border-left-color: var(--fill-color);\n",
              "      border-top-color: var(--fill-color);\n",
              "      border-right-color: var(--fill-color);\n",
              "    }\n",
              "    40% {\n",
              "      border-color: transparent;\n",
              "      border-right-color: var(--fill-color);\n",
              "      border-top-color: var(--fill-color);\n",
              "    }\n",
              "    60% {\n",
              "      border-color: transparent;\n",
              "      border-right-color: var(--fill-color);\n",
              "    }\n",
              "    80% {\n",
              "      border-color: transparent;\n",
              "      border-right-color: var(--fill-color);\n",
              "      border-bottom-color: var(--fill-color);\n",
              "    }\n",
              "    90% {\n",
              "      border-color: transparent;\n",
              "      border-bottom-color: var(--fill-color);\n",
              "    }\n",
              "  }\n",
              "</style>\n",
              "\n",
              "  <script>\n",
              "    async function quickchart(key) {\n",
              "      const quickchartButtonEl =\n",
              "        document.querySelector('#' + key + ' button');\n",
              "      quickchartButtonEl.disabled = true;  // To prevent multiple clicks.\n",
              "      quickchartButtonEl.classList.add('colab-df-spinner');\n",
              "      try {\n",
              "        const charts = await google.colab.kernel.invokeFunction(\n",
              "            'suggestCharts', [key], {});\n",
              "      } catch (error) {\n",
              "        console.error('Error during call to suggestCharts:', error);\n",
              "      }\n",
              "      quickchartButtonEl.classList.remove('colab-df-spinner');\n",
              "      quickchartButtonEl.classList.add('colab-df-quickchart-complete');\n",
              "    }\n",
              "    (() => {\n",
              "      let quickchartButtonEl =\n",
              "        document.querySelector('#df-ed663297-c29d-4ab4-96ed-b95e012991c0 button');\n",
              "      quickchartButtonEl.style.display =\n",
              "        google.colab.kernel.accessAllowed ? 'block' : 'none';\n",
              "    })();\n",
              "  </script>\n",
              "</div>\n",
              "\n",
              "    </div>\n",
              "  </div>\n"
            ],
            "application/vnd.google.colaboratory.intrinsic+json": {
              "type": "dataframe",
              "summary": "{\n  \"name\": \"hotel_df\",\n  \"rows\": 20,\n  \"fields\": [\n    {\n      \"column\": \"count\",\n      \"properties\": {\n        \"dtype\": \"number\",\n        \"std\": 25249.222777563922,\n        \"min\": 6797.0,\n        \"max\": 119390.0,\n        \"num_unique_values\": 4,\n        \"samples\": [\n          119386.0,\n          6797.0,\n          119390.0\n        ],\n        \"semantic_type\": \"\",\n        \"description\": \"\"\n      }\n    },\n    {\n      \"column\": \"mean\",\n      \"properties\": {\n        \"dtype\": \"number\",\n        \"std\": 447.5230602974884,\n        \"min\": 0.007948739425412514,\n        \"max\": 2016.156554150264,\n        \"num_unique_values\": 20,\n        \"samples\": [\n          0.37041628277075134,\n          101.83112153446686,\n          189.26673532440782\n        ],\n        \"semantic_type\": \"\",\n        \"description\": \"\"\n      }\n    },\n    {\n      \"column\": \"std\",\n      \"properties\": {\n        \"dtype\": \"number\",\n        \"std\": 42.346203817940996,\n        \"min\": 0.09743619130126437,\n        \"max\": 131.65501463851223,\n        \"num_unique_values\": 20,\n        \"samples\": [\n          0.4829182265925984,\n          50.535790285548714,\n          131.65501463851223\n        ],\n        \"semantic_type\": \"\",\n        \"description\": \"\"\n      }\n    },\n    {\n      \"column\": \"min\",\n      \"properties\": {\n        \"dtype\": \"number\",\n        \"std\": 450.54149766113306,\n        \"min\": -6.38,\n        \"max\": 2015.0,\n        \"num_unique_values\": 5,\n        \"samples\": [\n          2015.0,\n          -6.38,\n          1.0\n        ],\n        \"semantic_type\": \"\",\n        \"description\": \"\"\n      }\n    },\n    {\n      \"column\": \"25%\",\n      \"properties\": {\n        \"dtype\": \"number\",\n        \"std\": 449.0543995233938,\n        \"min\": 0.0,\n        \"max\": 2016.0,\n        \"num_unique_values\": 10,\n        \"samples\": [\n          62.0,\n          18.0,\n          1.0\n        ],\n        \"semantic_type\": \"\",\n        \"description\": \"\"\n      }\n    },\n    {\n      \"column\": \"50%\",\n      \"properties\": {\n        \"dtype\": \"number\",\n        \"std\": 448.27424386803733,\n        \"min\": 0.0,\n        \"max\": 2016.0,\n        \"num_unique_values\": 10,\n        \"samples\": [\n          179.0,\n          69.0,\n          1.0\n        ],\n        \"semantic_type\": \"\",\n        \"description\": \"\"\n      }\n    },\n    {\n      \"column\": \"75%\",\n      \"properties\": {\n        \"dtype\": \"number\",\n        \"std\": 448.66344202589795,\n        \"min\": 0.0,\n        \"max\": 2017.0,\n        \"num_unique_values\": 11,\n        \"samples\": [\n          2.0,\n          1.0,\n          270.0\n        ],\n        \"semantic_type\": \"\",\n        \"description\": \"\"\n      }\n    },\n    {\n      \"column\": \"max\",\n      \"properties\": {\n        \"dtype\": \"number\",\n        \"std\": 1246.8201607119988,\n        \"min\": 1.0,\n        \"max\": 5400.0,\n        \"num_unique_values\": 18,\n        \"samples\": [\n          1.0,\n          737.0,\n          10.0\n        ],\n        \"semantic_type\": \"\",\n        \"description\": \"\"\n      }\n    }\n  ]\n}"
            }
          },
          "metadata": {},
          "execution_count": 10
        }
      ]
    },
    {
      "cell_type": "markdown",
      "source": [
        "### Variables Description"
      ],
      "metadata": {
        "id": "PBTbrJXOngz2"
      }
    },
    {
      "cell_type": "markdown",
      "source": [
        "hotel: Categorical (object) - Type of hotel (e.g., City Hotel, Resort Hotel).\n",
        "\n",
        "is_canceled: Integer (int64) - Booking cancellation status (0: Not canceled, 1: Canceled).\n",
        "\n",
        "lead_time: Integer (int64) - Number of days between booking and check-in.\n",
        "\n",
        "arrival_date_year: Integer (int64) - Year of arrival.\n",
        "\n",
        "arrival_date_month: Categorical (object) - Month of arrival.\n",
        "\n",
        "arrival_date_week_number: Integer (int64) - Week number of the year for arrival.\n",
        "\n",
        "arrival_date_day_of_month: Integer (int64) - Day of the month for arrival.\n",
        "\n",
        "stays_in_weekend_nights: Integer (int64) - Number of weekend nights stayed.\n",
        "\n",
        "stays_in_week_nights: Integer (int64) - Number of week nights stayed.\n",
        "\n",
        "adults: Integer (int64) - Number of adults.\n",
        "\n",
        "children: Float (float64) - Number of children (can be missing).\n",
        "\n",
        "babies: Integer (int64) - Number of babies.\n",
        "\n",
        "meal: Categorical (object) - Meal plan type (e.g., BB, HB).\n",
        "\n",
        "country: Categorical (object) - Country of origin.\n",
        "\n",
        "market_segment: Categorical (object) - Market segment (e.g., Direct, Corporate).\n",
        "\n",
        "distribution_channel: Categorical (object) - Distribution channel used (e.g., TA/TO, Direct).\n",
        "\n",
        "is_repeated_guest: Integer (int64) - Status of being a repeated guest (0: No, 1: Yes).\n",
        "\n",
        "previous_cancellations: Integer (int64) - Number of previous cancellations.\n",
        "\n",
        "previous_bookings_not_canceled: Integer (int64) - Number of previous bookings not canceled.\n",
        "\n",
        "reserved_room_type: Categorical (object) - Type of room reserved.\n",
        "\n",
        "assigned_room_type: Categorical (object) - Type of room assigned.\n",
        "\n",
        "booking_changes: Integer (int64) - Number of changes to the booking.\n",
        "\n",
        "deposit_type: Categorical (object) - Type of deposit (e.g., No Deposit, Refundable).\n",
        "\n",
        "agent: Float (float64) - Agent ID (can be missing).\n",
        "\n",
        "company: Float (float64) - Company ID (can be missing).\n",
        "\n",
        "days_in_waiting_list: Integer (int64) - Number of days in the waiting list.\n",
        "\n",
        "customer_type: Categorical (object) - Type of customer (e.g., Transient, Contract).\n",
        "\n",
        "adr: Float (float64) - Average Daily Rate.\n",
        "\n",
        "required_car_parking_spaces: Integer (int64) - Number of car parking spaces required.\n",
        "\n",
        "total_of_special_requests: Integer (int64) - Number of special requests made.\n",
        "\n",
        "reservation_status: Categorical (object) - Status of the reservation (e.g., Check-Out, Canceled).\n",
        "\n",
        "reservation_status_date: Categorical (object) - Date of reservation status."
      ],
      "metadata": {
        "id": "aJV4KIxSnxay"
      }
    },
    {
      "cell_type": "markdown",
      "source": [
        "### Check Unique Values for each variable."
      ],
      "metadata": {
        "id": "u3PMJOP6ngxN"
      }
    },
    {
      "cell_type": "code",
      "source": [
        "# Check Unique Values for each variable.\n",
        "\n",
        "# Display unique values and their counts for columns\n",
        "print(\"Unique values and counts for columns:\")\n",
        "\n",
        "for col in hotel_df.columns:\n",
        "    print(f\"Column: {col}\")\n",
        "    print(f\"Number of unique values: {hotel_df[col].nunique()}\")\n",
        "    print(\"Value counts:\")\n",
        "    print(hotel_df[col].value_counts())\n",
        "    print()"
      ],
      "metadata": {
        "id": "zms12Yq5n-jE",
        "colab": {
          "base_uri": "https://localhost:8080/"
        },
        "outputId": "45ef8610-9fb4-453b-c10d-c21803b0ebce"
      },
      "execution_count": 11,
      "outputs": [
        {
          "output_type": "stream",
          "name": "stdout",
          "text": [
            "Unique values and counts for columns:\n",
            "Column: hotel\n",
            "Number of unique values: 2\n",
            "Value counts:\n",
            "hotel\n",
            "City Hotel      79330\n",
            "Resort Hotel    40060\n",
            "Name: count, dtype: int64\n",
            "\n",
            "Column: is_canceled\n",
            "Number of unique values: 2\n",
            "Value counts:\n",
            "is_canceled\n",
            "0    75166\n",
            "1    44224\n",
            "Name: count, dtype: int64\n",
            "\n",
            "Column: lead_time\n",
            "Number of unique values: 479\n",
            "Value counts:\n",
            "lead_time\n",
            "0      6345\n",
            "1      3460\n",
            "2      2069\n",
            "3      1816\n",
            "4      1715\n",
            "       ... \n",
            "400       1\n",
            "370       1\n",
            "532       1\n",
            "371       1\n",
            "463       1\n",
            "Name: count, Length: 479, dtype: int64\n",
            "\n",
            "Column: arrival_date_year\n",
            "Number of unique values: 3\n",
            "Value counts:\n",
            "arrival_date_year\n",
            "2016    56707\n",
            "2017    40687\n",
            "2015    21996\n",
            "Name: count, dtype: int64\n",
            "\n",
            "Column: arrival_date_month\n",
            "Number of unique values: 12\n",
            "Value counts:\n",
            "arrival_date_month\n",
            "August       13877\n",
            "July         12661\n",
            "May          11791\n",
            "October      11160\n",
            "April        11089\n",
            "June         10939\n",
            "September    10508\n",
            "March         9794\n",
            "February      8068\n",
            "November      6794\n",
            "December      6780\n",
            "January       5929\n",
            "Name: count, dtype: int64\n",
            "\n",
            "Column: arrival_date_week_number\n",
            "Number of unique values: 53\n",
            "Value counts:\n",
            "arrival_date_week_number\n",
            "33    3580\n",
            "30    3087\n",
            "32    3045\n",
            "34    3040\n",
            "18    2926\n",
            "21    2854\n",
            "28    2853\n",
            "17    2805\n",
            "20    2785\n",
            "29    2763\n",
            "42    2756\n",
            "31    2741\n",
            "41    2699\n",
            "15    2689\n",
            "27    2664\n",
            "25    2663\n",
            "38    2661\n",
            "23    2621\n",
            "35    2593\n",
            "39    2581\n",
            "22    2546\n",
            "24    2498\n",
            "13    2416\n",
            "16    2405\n",
            "19    2402\n",
            "40    2397\n",
            "26    2391\n",
            "43    2352\n",
            "44    2272\n",
            "14    2264\n",
            "37    2229\n",
            "8     2216\n",
            "36    2167\n",
            "10    2149\n",
            "9     2117\n",
            "7     2109\n",
            "12    2083\n",
            "11    2070\n",
            "45    1941\n",
            "53    1816\n",
            "49    1782\n",
            "47    1685\n",
            "46    1574\n",
            "6     1508\n",
            "50    1505\n",
            "48    1504\n",
            "4     1487\n",
            "5     1387\n",
            "3     1319\n",
            "2     1218\n",
            "52    1195\n",
            "1     1047\n",
            "51     933\n",
            "Name: count, dtype: int64\n",
            "\n",
            "Column: arrival_date_day_of_month\n",
            "Number of unique values: 31\n",
            "Value counts:\n",
            "arrival_date_day_of_month\n",
            "17    4406\n",
            "5     4317\n",
            "15    4196\n",
            "25    4160\n",
            "26    4147\n",
            "9     4096\n",
            "12    4087\n",
            "16    4078\n",
            "2     4055\n",
            "19    4052\n",
            "20    4032\n",
            "18    4002\n",
            "24    3993\n",
            "28    3946\n",
            "8     3921\n",
            "3     3855\n",
            "30    3853\n",
            "6     3833\n",
            "14    3819\n",
            "27    3802\n",
            "21    3767\n",
            "4     3763\n",
            "13    3745\n",
            "7     3665\n",
            "1     3626\n",
            "23    3616\n",
            "11    3599\n",
            "22    3596\n",
            "29    3580\n",
            "10    3575\n",
            "31    2208\n",
            "Name: count, dtype: int64\n",
            "\n",
            "Column: stays_in_weekend_nights\n",
            "Number of unique values: 17\n",
            "Value counts:\n",
            "stays_in_weekend_nights\n",
            "0     51998\n",
            "2     33308\n",
            "1     30626\n",
            "4      1855\n",
            "3      1259\n",
            "6       153\n",
            "5        79\n",
            "8        60\n",
            "7        19\n",
            "9        11\n",
            "10        7\n",
            "12        5\n",
            "13        3\n",
            "16        3\n",
            "14        2\n",
            "18        1\n",
            "19        1\n",
            "Name: count, dtype: int64\n",
            "\n",
            "Column: stays_in_week_nights\n",
            "Number of unique values: 35\n",
            "Value counts:\n",
            "stays_in_week_nights\n",
            "2     33684\n",
            "1     30310\n",
            "3     22258\n",
            "5     11077\n",
            "4      9563\n",
            "0      7645\n",
            "6      1499\n",
            "10     1036\n",
            "7      1029\n",
            "8       656\n",
            "9       231\n",
            "15       85\n",
            "11       56\n",
            "19       44\n",
            "12       42\n",
            "20       41\n",
            "14       35\n",
            "13       27\n",
            "16       16\n",
            "21       15\n",
            "22        7\n",
            "25        6\n",
            "18        6\n",
            "30        5\n",
            "17        4\n",
            "24        3\n",
            "40        2\n",
            "33        1\n",
            "42        1\n",
            "50        1\n",
            "32        1\n",
            "26        1\n",
            "34        1\n",
            "35        1\n",
            "41        1\n",
            "Name: count, dtype: int64\n",
            "\n",
            "Column: adults\n",
            "Number of unique values: 14\n",
            "Value counts:\n",
            "adults\n",
            "2     89680\n",
            "1     23027\n",
            "3      6202\n",
            "0       403\n",
            "4        62\n",
            "26        5\n",
            "27        2\n",
            "20        2\n",
            "5         2\n",
            "40        1\n",
            "50        1\n",
            "55        1\n",
            "6         1\n",
            "10        1\n",
            "Name: count, dtype: int64\n",
            "\n",
            "Column: children\n",
            "Number of unique values: 5\n",
            "Value counts:\n",
            "children\n",
            "0.0     110796\n",
            "1.0       4861\n",
            "2.0       3652\n",
            "3.0         76\n",
            "10.0         1\n",
            "Name: count, dtype: int64\n",
            "\n",
            "Column: babies\n",
            "Number of unique values: 5\n",
            "Value counts:\n",
            "babies\n",
            "0     118473\n",
            "1        900\n",
            "2         15\n",
            "10         1\n",
            "9          1\n",
            "Name: count, dtype: int64\n",
            "\n",
            "Column: meal\n",
            "Number of unique values: 5\n",
            "Value counts:\n",
            "meal\n",
            "BB           92310\n",
            "HB           14463\n",
            "SC           10650\n",
            "Undefined     1169\n",
            "FB             798\n",
            "Name: count, dtype: int64\n",
            "\n",
            "Column: country\n",
            "Number of unique values: 177\n",
            "Value counts:\n",
            "country\n",
            "PRT    48590\n",
            "GBR    12129\n",
            "FRA    10415\n",
            "ESP     8568\n",
            "DEU     7287\n",
            "       ...  \n",
            "DJI        1\n",
            "BWA        1\n",
            "HND        1\n",
            "VGB        1\n",
            "NAM        1\n",
            "Name: count, Length: 177, dtype: int64\n",
            "\n",
            "Column: market_segment\n",
            "Number of unique values: 8\n",
            "Value counts:\n",
            "market_segment\n",
            "Online TA        56477\n",
            "Offline TA/TO    24219\n",
            "Groups           19811\n",
            "Direct           12606\n",
            "Corporate         5295\n",
            "Complementary      743\n",
            "Aviation           237\n",
            "Undefined            2\n",
            "Name: count, dtype: int64\n",
            "\n",
            "Column: distribution_channel\n",
            "Number of unique values: 5\n",
            "Value counts:\n",
            "distribution_channel\n",
            "TA/TO        97870\n",
            "Direct       14645\n",
            "Corporate     6677\n",
            "GDS            193\n",
            "Undefined        5\n",
            "Name: count, dtype: int64\n",
            "\n",
            "Column: is_repeated_guest\n",
            "Number of unique values: 2\n",
            "Value counts:\n",
            "is_repeated_guest\n",
            "0    115580\n",
            "1      3810\n",
            "Name: count, dtype: int64\n",
            "\n",
            "Column: previous_cancellations\n",
            "Number of unique values: 15\n",
            "Value counts:\n",
            "previous_cancellations\n",
            "0     112906\n",
            "1       6051\n",
            "2        116\n",
            "3         65\n",
            "24        48\n",
            "11        35\n",
            "4         31\n",
            "26        26\n",
            "25        25\n",
            "6         22\n",
            "19        19\n",
            "5         19\n",
            "14        14\n",
            "13        12\n",
            "21         1\n",
            "Name: count, dtype: int64\n",
            "\n",
            "Column: previous_bookings_not_canceled\n",
            "Number of unique values: 73\n",
            "Value counts:\n",
            "previous_bookings_not_canceled\n",
            "0     115770\n",
            "1       1542\n",
            "2        580\n",
            "3        333\n",
            "4        229\n",
            "       ...  \n",
            "47         1\n",
            "49         1\n",
            "50         1\n",
            "51         1\n",
            "72         1\n",
            "Name: count, Length: 73, dtype: int64\n",
            "\n",
            "Column: reserved_room_type\n",
            "Number of unique values: 10\n",
            "Value counts:\n",
            "reserved_room_type\n",
            "A    85994\n",
            "D    19201\n",
            "E     6535\n",
            "F     2897\n",
            "G     2094\n",
            "B     1118\n",
            "C      932\n",
            "H      601\n",
            "P       12\n",
            "L        6\n",
            "Name: count, dtype: int64\n",
            "\n",
            "Column: assigned_room_type\n",
            "Number of unique values: 12\n",
            "Value counts:\n",
            "assigned_room_type\n",
            "A    74053\n",
            "D    25322\n",
            "E     7806\n",
            "F     3751\n",
            "G     2553\n",
            "C     2375\n",
            "B     2163\n",
            "H      712\n",
            "I      363\n",
            "K      279\n",
            "P       12\n",
            "L        1\n",
            "Name: count, dtype: int64\n",
            "\n",
            "Column: booking_changes\n",
            "Number of unique values: 21\n",
            "Value counts:\n",
            "booking_changes\n",
            "0     101314\n",
            "1      12701\n",
            "2       3805\n",
            "3        927\n",
            "4        376\n",
            "5        118\n",
            "6         63\n",
            "7         31\n",
            "8         17\n",
            "9          8\n",
            "10         6\n",
            "13         5\n",
            "14         5\n",
            "15         3\n",
            "16         2\n",
            "17         2\n",
            "12         2\n",
            "11         2\n",
            "20         1\n",
            "21         1\n",
            "18         1\n",
            "Name: count, dtype: int64\n",
            "\n",
            "Column: deposit_type\n",
            "Number of unique values: 3\n",
            "Value counts:\n",
            "deposit_type\n",
            "No Deposit    104641\n",
            "Non Refund     14587\n",
            "Refundable       162\n",
            "Name: count, dtype: int64\n",
            "\n",
            "Column: agent\n",
            "Number of unique values: 333\n",
            "Value counts:\n",
            "agent\n",
            "9.0      31961\n",
            "240.0    13922\n",
            "1.0       7191\n",
            "14.0      3640\n",
            "7.0       3539\n",
            "         ...  \n",
            "289.0        1\n",
            "432.0        1\n",
            "265.0        1\n",
            "93.0         1\n",
            "304.0        1\n",
            "Name: count, Length: 333, dtype: int64\n",
            "\n",
            "Column: company\n",
            "Number of unique values: 352\n",
            "Value counts:\n",
            "company\n",
            "40.0     927\n",
            "223.0    784\n",
            "67.0     267\n",
            "45.0     250\n",
            "153.0    215\n",
            "        ... \n",
            "104.0      1\n",
            "531.0      1\n",
            "160.0      1\n",
            "413.0      1\n",
            "386.0      1\n",
            "Name: count, Length: 352, dtype: int64\n",
            "\n",
            "Column: days_in_waiting_list\n",
            "Number of unique values: 128\n",
            "Value counts:\n",
            "days_in_waiting_list\n",
            "0      115692\n",
            "39        227\n",
            "58        164\n",
            "44        141\n",
            "31        127\n",
            "        ...  \n",
            "116         1\n",
            "109         1\n",
            "37          1\n",
            "89          1\n",
            "36          1\n",
            "Name: count, Length: 128, dtype: int64\n",
            "\n",
            "Column: customer_type\n",
            "Number of unique values: 4\n",
            "Value counts:\n",
            "customer_type\n",
            "Transient          89613\n",
            "Transient-Party    25124\n",
            "Contract            4076\n",
            "Group                577\n",
            "Name: count, dtype: int64\n",
            "\n",
            "Column: adr\n",
            "Number of unique values: 8879\n",
            "Value counts:\n",
            "adr\n",
            "62.00     3754\n",
            "75.00     2715\n",
            "90.00     2473\n",
            "65.00     2418\n",
            "0.00      1959\n",
            "          ... \n",
            "89.43        1\n",
            "63.07        1\n",
            "55.69        1\n",
            "49.51        1\n",
            "157.71       1\n",
            "Name: count, Length: 8879, dtype: int64\n",
            "\n",
            "Column: required_car_parking_spaces\n",
            "Number of unique values: 5\n",
            "Value counts:\n",
            "required_car_parking_spaces\n",
            "0    111974\n",
            "1      7383\n",
            "2        28\n",
            "3         3\n",
            "8         2\n",
            "Name: count, dtype: int64\n",
            "\n",
            "Column: total_of_special_requests\n",
            "Number of unique values: 6\n",
            "Value counts:\n",
            "total_of_special_requests\n",
            "0    70318\n",
            "1    33226\n",
            "2    12969\n",
            "3     2497\n",
            "4      340\n",
            "5       40\n",
            "Name: count, dtype: int64\n",
            "\n",
            "Column: reservation_status\n",
            "Number of unique values: 3\n",
            "Value counts:\n",
            "reservation_status\n",
            "Check-Out    75166\n",
            "Canceled     43017\n",
            "No-Show       1207\n",
            "Name: count, dtype: int64\n",
            "\n",
            "Column: reservation_status_date\n",
            "Number of unique values: 926\n",
            "Value counts:\n",
            "reservation_status_date\n",
            "2015-10-21    1461\n",
            "2015-07-06     805\n",
            "2016-11-25     790\n",
            "2015-01-01     763\n",
            "2016-01-18     625\n",
            "              ... \n",
            "2015-02-27       1\n",
            "2015-04-25       1\n",
            "2015-03-11       1\n",
            "2015-06-14       1\n",
            "2015-02-12       1\n",
            "Name: count, Length: 926, dtype: int64\n",
            "\n"
          ]
        }
      ]
    },
    {
      "cell_type": "markdown",
      "source": [
        "## 3. ***Data Wrangling***"
      ],
      "metadata": {
        "id": "dauF4eBmngu3"
      }
    },
    {
      "cell_type": "markdown",
      "source": [
        "### Data Wrangling Code\n",
        "\n"
      ],
      "metadata": {
        "id": "bKJF3rekwFvQ"
      }
    },
    {
      "cell_type": "markdown",
      "source": [
        "####Handling Missing Values"
      ],
      "metadata": {
        "id": "hoiknRlkxGS-"
      }
    },
    {
      "cell_type": "code",
      "source": [
        "# Handle Missing Values\n",
        "\n",
        "# For 'children' column (numeric): Fill missing values with the median\n",
        "hotel_df['children'].fillna(hotel_df['children'].median(), inplace=True)\n",
        "\n",
        "# For 'agent' column (numeric): Fill missing values with the mean\n",
        "hotel_df['agent'].fillna(hotel_df['agent'].mean(), inplace=True)\n",
        "\n",
        "\n",
        "# For 'company' column (numeric): Fill missing values with mean\n",
        "hotel_df.fillna(hotel_df['company'].mean(),inplace=True)\n",
        "\n",
        "# For 'country' column (categorical): Fill missing values with the mode\n",
        "hotel_df['country'].fillna(hotel_df['country'].mode()[0], inplace=True)\n",
        "\n",
        "# Verify that there are no more missing values\n",
        "missing_values_after = hotel_df.isnull().sum()\n",
        "print(\"Missing values per column after imputation:\")\n",
        "print(missing_values_after[missing_values_after > 0])"
      ],
      "metadata": {
        "id": "wk-9a2fpoLcV",
        "colab": {
          "base_uri": "https://localhost:8080/"
        },
        "outputId": "cad91057-5ce5-4629-f8db-41035a298886"
      },
      "execution_count": 12,
      "outputs": [
        {
          "output_type": "stream",
          "name": "stdout",
          "text": [
            "Missing values per column after imputation:\n",
            "Series([], dtype: int64)\n"
          ]
        }
      ]
    },
    {
      "cell_type": "markdown",
      "source": [
        "####Handling Duplicates"
      ],
      "metadata": {
        "id": "MJ3Hhp7b29mK"
      }
    },
    {
      "cell_type": "code",
      "source": [
        "# Removing duplicate rows\n",
        "hotel_df = hotel_df.drop_duplicates()\n",
        "\n",
        "# Verifying if duplicates are removed\n",
        "print(f\"Number of rows after removing duplicates: {hotel_df.shape[0]}\")"
      ],
      "metadata": {
        "colab": {
          "base_uri": "https://localhost:8080/"
        },
        "id": "S7WW1orX3A2P",
        "outputId": "a09fab8d-20dc-4c76-d8b5-355eabe596f9"
      },
      "execution_count": 13,
      "outputs": [
        {
          "output_type": "stream",
          "name": "stdout",
          "text": [
            "Number of rows after removing duplicates: 87396\n"
          ]
        }
      ]
    },
    {
      "cell_type": "markdown",
      "source": [
        "####Filtering Data\n"
      ],
      "metadata": {
        "id": "c1S-wnxd4y2K"
      }
    },
    {
      "cell_type": "code",
      "source": [
        "# Removing Rows with No Guests\n",
        "\n",
        "# Create a filter to identify rows where children, adults, and babies are all 0\n",
        "filtered_data = (hotel_df['children'] == 0) & (hotel_df['adults'] == 0) & (hotel_df['babies'] == 0)\n",
        "\n",
        "# Apply the filter to exclude these rows from the original dataset\n",
        "hotel_df = hotel_df[~filtered_data]\n",
        "\n",
        "# Print the shape of the dataset after filtering\n",
        "print(\"Shape of the dataset after filtering:\", hotel_df.shape)\n"
      ],
      "metadata": {
        "colab": {
          "base_uri": "https://localhost:8080/"
        },
        "id": "oyPCdmIZ41ur",
        "outputId": "cf0d5a55-84f3-4510-df12-54b7d091a1e9"
      },
      "execution_count": 14,
      "outputs": [
        {
          "output_type": "stream",
          "name": "stdout",
          "text": [
            "Shape of the dataset after filtering: (87230, 32)\n"
          ]
        }
      ]
    },
    {
      "cell_type": "markdown",
      "source": [
        "####Casting Data Types"
      ],
      "metadata": {
        "id": "9W2Pet2H7Tpm"
      }
    },
    {
      "cell_type": "code",
      "source": [
        "# Convert 'children' column from float to int64\n",
        "hotel_df['children'] = hotel_df['children'].astype('int64')\n",
        "\n",
        "# Convert 'agent' column from float to int64\n",
        "hotel_df['agent'] = hotel_df['agent'].astype('int64')\n",
        "\n",
        "# Convert 'company' column from float to int64\n",
        "hotel_df['company'] = hotel_df['company'].astype('int64')\n",
        "\n",
        "# Print the data types of the columns to confirm changes\n",
        "print(hotel_df[['children','agent','company']].dtypes)"
      ],
      "metadata": {
        "colab": {
          "base_uri": "https://localhost:8080/"
        },
        "id": "5ilVNsYM7c5V",
        "outputId": "0c62c64f-0c1f-4aa6-b8b1-2a6ec121f4f7"
      },
      "execution_count": 15,
      "outputs": [
        {
          "output_type": "stream",
          "name": "stdout",
          "text": [
            "children    int64\n",
            "agent       int64\n",
            "company     int64\n",
            "dtype: object\n"
          ]
        }
      ]
    },
    {
      "cell_type": "markdown",
      "source": [
        "###**Insights**"
      ],
      "metadata": {
        "id": "hy74uLuN7-78"
      }
    },
    {
      "cell_type": "markdown",
      "source": [
        "####Booking Status Analysis"
      ],
      "metadata": {
        "id": "6FaMpgfA9Yut"
      }
    },
    {
      "cell_type": "code",
      "source": [
        "# Calculate the proportion of canceled and non-canceled bookings\n",
        "booking_status_counts = hotel_df['is_canceled'].value_counts(normalize=True) * 100\n",
        "\n",
        "# Print the booking status proportions\n",
        "print(\"Proportion of Canceled vs. Non-Canceled Bookings (%):\")\n",
        "print(booking_status_counts)"
      ],
      "metadata": {
        "colab": {
          "base_uri": "https://localhost:8080/"
        },
        "id": "853g-ceo8EZ8",
        "outputId": "b1c52d67-0948-45d1-c1d8-46885c7d0b54"
      },
      "execution_count": 16,
      "outputs": [
        {
          "output_type": "stream",
          "name": "stdout",
          "text": [
            "Proportion of Canceled vs. Non-Canceled Bookings (%):\n",
            "is_canceled\n",
            "0    72.476212\n",
            "1    27.523788\n",
            "Name: proportion, dtype: float64\n"
          ]
        }
      ]
    },
    {
      "cell_type": "markdown",
      "source": [
        "####Booking Timing Analysis"
      ],
      "metadata": {
        "id": "_x3UbZMY9kPd"
      }
    },
    {
      "cell_type": "code",
      "source": [
        "# Average Lead Time by Year\n",
        "\n",
        "# Group the data by the arrival year and calculate the average lead time\n",
        "avg_lead_time_by_year = hotel_df.groupby('arrival_date_year')['lead_time'].mean()\n",
        "\n",
        "# Print the average lead time by year\n",
        "print(\"Average Lead Time by Year:\")\n",
        "print(avg_lead_time_by_year)"
      ],
      "metadata": {
        "colab": {
          "base_uri": "https://localhost:8080/"
        },
        "id": "H2jAPihw99Jl",
        "outputId": "473986e4-fd9e-41dd-fa4d-9d5182733b3f"
      },
      "execution_count": 17,
      "outputs": [
        {
          "output_type": "stream",
          "name": "stdout",
          "text": [
            "Average Lead Time by Year:\n",
            "arrival_date_year\n",
            "2015    58.769271\n",
            "2016    76.315317\n",
            "2017    93.764455\n",
            "Name: lead_time, dtype: float64\n"
          ]
        }
      ]
    },
    {
      "cell_type": "markdown",
      "source": [
        "####Booking Seasonality"
      ],
      "metadata": {
        "id": "b5hqMk30-YqD"
      }
    },
    {
      "cell_type": "code",
      "source": [
        "# Number of Bookings by Month\n",
        "\n",
        "# Group the data by the arrival month and count the number of bookings\n",
        "bookings_by_month = hotel_df['arrival_date_month'].value_counts()\n",
        "\n",
        "# Print the number of bookings by month\n",
        "print(\"Number of Bookings by Month:\")\n",
        "print(bookings_by_month)\n"
      ],
      "metadata": {
        "colab": {
          "base_uri": "https://localhost:8080/"
        },
        "id": "P7fopM7V-g-U",
        "outputId": "a323dafc-4df6-4d37-c1e9-c20712d6d747"
      },
      "execution_count": 18,
      "outputs": [
        {
          "output_type": "stream",
          "name": "stdout",
          "text": [
            "Number of Bookings by Month:\n",
            "arrival_date_month\n",
            "August       11242\n",
            "July         10043\n",
            "May           8344\n",
            "April         7900\n",
            "June          7756\n",
            "March         7489\n",
            "October       6921\n",
            "September     6682\n",
            "February      6083\n",
            "December      5112\n",
            "November      4973\n",
            "January       4685\n",
            "Name: count, dtype: int64\n"
          ]
        }
      ]
    },
    {
      "cell_type": "markdown",
      "source": [
        "####Meal Preferences: Meal Type Distribution"
      ],
      "metadata": {
        "id": "vCNQ2sIT-8m0"
      }
    },
    {
      "cell_type": "code",
      "source": [
        "# Calculate the distribution of different meal types opted by guests and sort in descending order\n",
        "meal_type_distribution = hotel_df['meal'].value_counts().sort_values(ascending=False)\n",
        "\n",
        "# Print the sorted meal type distribution\n",
        "print(\"Meal Type Distribution (Sorted):\")\n",
        "print(meal_type_distribution)"
      ],
      "metadata": {
        "colab": {
          "base_uri": "https://localhost:8080/"
        },
        "id": "Ov1ZUaTm__Cd",
        "outputId": "926d1dd6-4308-4ea6-930f-d161e919e8b4"
      },
      "execution_count": 19,
      "outputs": [
        {
          "output_type": "stream",
          "name": "stdout",
          "text": [
            "Meal Type Distribution (Sorted):\n",
            "meal\n",
            "BB           67907\n",
            "SC            9391\n",
            "HB            9080\n",
            "Undefined      492\n",
            "FB             360\n",
            "Name: count, dtype: int64\n"
          ]
        }
      ]
    },
    {
      "cell_type": "markdown",
      "source": [
        "####Geographic Distribution of Bookings: Top 10 Countries"
      ],
      "metadata": {
        "id": "T3EeaZpcAUDI"
      }
    },
    {
      "cell_type": "code",
      "source": [
        "# Calculate the distribution of bookings across different countries\n",
        "country_booking_distribution = hotel_df['country'].value_counts()\n",
        "\n",
        "# Display the top 10 countries with the highest number of bookings\n",
        "top_countries = country_booking_distribution.head(10)\n",
        "\n",
        "# Print the top 10 countries with the highest number of bookings\n",
        "print(\"Top 10 Countries by Number of Bookings:\")\n",
        "print(top_countries)"
      ],
      "metadata": {
        "colab": {
          "base_uri": "https://localhost:8080/"
        },
        "id": "CcEZYyofAz9T",
        "outputId": "3f7773d5-35b3-496a-b834-ecf1e6bcc463"
      },
      "execution_count": 20,
      "outputs": [
        {
          "output_type": "stream",
          "name": "stdout",
          "text": [
            "Top 10 Countries by Number of Bookings:\n",
            "country\n",
            "PRT    27355\n",
            "GBR    10424\n",
            "FRA     8823\n",
            "ESP     7244\n",
            "DEU     5385\n",
            "ITA     3061\n",
            "IRL     3015\n",
            "BEL     2081\n",
            "BRA     1993\n",
            "NLD     1910\n",
            "Name: count, dtype: int64\n"
          ]
        }
      ]
    },
    {
      "cell_type": "markdown",
      "source": [
        "####Repeated Guests Analysis: Repeat vs. New Guests"
      ],
      "metadata": {
        "id": "YzhCWFdsB2pu"
      }
    },
    {
      "cell_type": "code",
      "source": [
        "# Analyze the proportion of repeated guests compared to new guests\n",
        "repeated_guests = hotel_df['is_repeated_guest'].value_counts(normalize=True) * 100\n",
        "\n",
        "# Print the percentage of repeated and new guests\n",
        "print(\"Proportion of Repeated Guests vs. New Guests:\")\n",
        "print(f\"Repeated Guests: {repeated_guests[1]:.2f}%\")\n",
        "print(f\"New Guests: {repeated_guests[0]:.2f}%\")\n"
      ],
      "metadata": {
        "colab": {
          "base_uri": "https://localhost:8080/"
        },
        "id": "SxMjZUFpB1mh",
        "outputId": "af85e44a-3b64-43b4-a771-8e5da8b2bf73"
      },
      "execution_count": 22,
      "outputs": [
        {
          "output_type": "stream",
          "name": "stdout",
          "text": [
            "Proportion of Repeated Guests vs. New Guests:\n",
            "Repeated Guests: 3.86%\n",
            "New Guests: 96.14%\n"
          ]
        }
      ]
    },
    {
      "cell_type": "markdown",
      "source": [
        "####Average ADR by Month"
      ],
      "metadata": {
        "id": "ab4AP-PLB9It"
      }
    },
    {
      "cell_type": "code",
      "source": [
        "# Define the order of months\n",
        "order = [\n",
        "    'January', 'February', 'March', 'April', 'May', 'June',\n",
        "    'July', 'August', 'September', 'October', 'November', 'December'\n",
        "]\n",
        "\n",
        "# Convert 'arrival_date_month' to categorical with the defined order\n",
        "hotel_df['arrival_date_month'] = pd.Categorical(hotel_df['arrival_date_month'], categories=order, ordered=True)\n",
        "\n",
        "# Calculate average ADR per month\n",
        "adr_by_month = hotel_df.groupby('arrival_date_month')['adr'].mean()\n",
        "\n",
        "# Display the average ADR per month\n",
        "print(adr_by_month)"
      ],
      "metadata": {
        "colab": {
          "base_uri": "https://localhost:8080/"
        },
        "id": "3oUAw49wJlmD",
        "outputId": "3a278508-dbc8-495f-a047-701816a0648d"
      },
      "execution_count": 24,
      "outputs": [
        {
          "output_type": "stream",
          "name": "stdout",
          "text": [
            "arrival_date_month\n",
            "January       70.164448\n",
            "February      74.861078\n",
            "March         81.857868\n",
            "April        103.700239\n",
            "May          111.306131\n",
            "June         119.864477\n",
            "July         135.713615\n",
            "August       151.055295\n",
            "September    112.211672\n",
            "October       90.321855\n",
            "November      72.968506\n",
            "December      81.743142\n",
            "Name: adr, dtype: float64\n"
          ]
        },
        {
          "output_type": "stream",
          "name": "stderr",
          "text": [
            "<ipython-input-24-40209a027baf>:11: FutureWarning: The default of observed=False is deprecated and will be changed to True in a future version of pandas. Pass observed=False to retain current behavior or observed=True to adopt the future default and silence this warning.\n",
            "  adr_by_month = hotel_df.groupby('arrival_date_month')['adr'].mean()\n"
          ]
        }
      ]
    },
    {
      "cell_type": "markdown",
      "source": [
        "### What all manipulations have you done and insights you found?"
      ],
      "metadata": {
        "id": "MSa1f5Uengrz"
      }
    },
    {
      "cell_type": "markdown",
      "source": [
        "####**Data Manipulation:**\n",
        "\n",
        "**Handling Missing Values:**\n",
        "\n",
        "Filled missing values in children, agent, and company columns with median or mean.\n",
        "Filled missing values in the country column with the mode.\n",
        "\n",
        "**Removing Duplicates:**\n",
        "\n",
        "Dropped duplicate rows to ensure unique records.\n",
        "\n",
        "**Filtering Data:**\n",
        "\n",
        "Excluded rows where children, adults, and babies were all 0 to focus on meaningful bookings.\n",
        "\n",
        "**Casting Data Types:**\n",
        "\n",
        "Converted children, agent, and company columns from float to int64 for consistency.\n",
        "\n",
        "####**Insights:**\n",
        "\n",
        "**Booking Status Analysis:**\n",
        "\n",
        "Non-canceled bookings: 72.48%\n",
        "Canceled bookings: 27.52%\n",
        "\n",
        "**Booking Timing Analysis:**\n",
        "\n",
        "Average lead time increased from 58.77 days in 2015 to 93.76 days in 2017\n",
        "\n",
        "**Booking Seasonality:**\n",
        "\n",
        "Peak bookings in August (11,242) and July (10,043).\n",
        "Lowest bookings in January (4,685) and December (5,112).\n",
        "\n",
        "**Meal Preferences:**\n",
        "\n",
        "Most popular meal type is Bed and Breakfast (67,907 bookings).\n",
        "\n",
        "**Geographic Distribution of Bookings:**\n",
        "\n",
        "Highest bookings from Portugal (27,355) and the United Kingdom (10,424).\n",
        "\n",
        "**Repeated Guests Analysis:**\n",
        "\n",
        "Repeated Guests: 3.86%\n",
        "New Guests: 96.14%\n",
        "\n",
        "**Average ADR by Month:**\n",
        "\n",
        "Highest ADR in August 151.06 and July 135.71\n",
        "Lowest ADR in January 70.16 and November 72.97"
      ],
      "metadata": {
        "id": "LbyXE7I1olp8"
      }
    },
    {
      "cell_type": "markdown",
      "source": [
        "## ***4. Data Vizualization, Storytelling & Experimenting with charts : Understand the relationships between variables***"
      ],
      "metadata": {
        "id": "GF8Ens_Soomf"
      }
    },
    {
      "cell_type": "markdown",
      "source": [
        "#### Chart - 1"
      ],
      "metadata": {
        "id": "0wOQAZs5pc--"
      }
    },
    {
      "cell_type": "code",
      "source": [
        "# Chart - 1 visualization code\n",
        "# Stacked Bar Chart: Number of Bookings by Year and Month\n",
        "\n",
        "\n",
        "# Group data by year and month\n",
        "monthly_bookings = hotel_df.groupby(['arrival_date_year', 'arrival_date_month']).size().unstack(fill_value=0)\n",
        "\n",
        "# Plotting the stacked bar chart\n",
        "monthly_bookings.plot(kind='bar', stacked=True, figsize=(9, 5), colormap='tab20')\n",
        "plt.title('Number of Bookings by Year and Month')\n",
        "plt.xlabel('Year')\n",
        "plt.ylabel('Number of Bookings')\n",
        "plt.legend(title='Month')\n",
        "plt.xticks(rotation=45)\n",
        "plt.tight_layout()\n",
        "plt.show()"
      ],
      "metadata": {
        "id": "7v_ESjsspbW7",
        "colab": {
          "base_uri": "https://localhost:8080/",
          "height": 564
        },
        "outputId": "ac6ea6f5-9486-4aad-9e6f-fa7b2a9187cc"
      },
      "execution_count": 25,
      "outputs": [
        {
          "output_type": "stream",
          "name": "stderr",
          "text": [
            "<ipython-input-25-49dd916f653f>:6: FutureWarning: The default of observed=False is deprecated and will be changed to True in a future version of pandas. Pass observed=False to retain current behavior or observed=True to adopt the future default and silence this warning.\n",
            "  monthly_bookings = hotel_df.groupby(['arrival_date_year', 'arrival_date_month']).size().unstack(fill_value=0)\n"
          ]
        },
        {
          "output_type": "display_data",
          "data": {
            "text/plain": [
              "<Figure size 900x500 with 1 Axes>"
            ],
            "image/png": "[encoded data removed]"
          },
          "metadata": {}
        }
      ]
    },
    {
      "cell_type": "markdown",
      "source": [
        "##### 1. Why did you pick the specific chart?"
      ],
      "metadata": {
        "id": "K5QZ13OEpz2H"
      }
    },
    {
      "cell_type": "markdown",
      "source": [
        "The stacked bar chart is chosen to visualize the number of bookings segmented by both year and month. This type of chart allows us to compare booking trends across different months and years simultaneously, providing insights into seasonal variations and annual changes."
      ],
      "metadata": {
        "id": "XESiWehPqBRc"
      }
    },
    {
      "cell_type": "markdown",
      "source": [
        "##### 2. What is/are the insight(s) found from the chart?"
      ],
      "metadata": {
        "id": "lQ7QKXXCp7Bj"
      }
    },
    {
      "cell_type": "markdown",
      "source": [
        "Insights from this chart will reveal which months have the highest and lowest number of bookings and how these trends vary across different years. This can help identify peak booking seasons and any significant changes in booking patterns over the years\n",
        "\n",
        "Specifically:\n",
        "\n",
        "For the year 2015, the months with the highest number of bookings were December, October, and November.\n",
        "\n",
        "For the year 2016, December, November, and October were the months with the highest number of bookings, while Janurary, Feburary, March had the lowest.\n",
        "\n",
        "For the year 2017, August, July, and June saw the highest number of bookings, whereas Janurary, Feburary, March fewer bookings."
      ],
      "metadata": {
        "id": "C_j1G7yiqdRP"
      }
    },
    {
      "cell_type": "markdown",
      "source": [
        "##### 3. Will the gained insights help creating a positive business impact?\n",
        "Are there any insights that lead to negative growth? Justify with specific reason."
      ],
      "metadata": {
        "id": "448CDAPjqfQr"
      }
    },
    {
      "cell_type": "markdown",
      "source": [
        "Yes, understanding booking patterns can help in resource planning, marketing strategies, and pricing adjustments. For example, knowing peak seasons can assist in optimizing staff levels, managing inventory, and running targeted promotions to attract more bookings during off-peak times."
      ],
      "metadata": {
        "id": "3cspy4FjqxJW"
      }
    },
    {
      "cell_type": "markdown",
      "source": [
        "#### Chart - 2"
      ],
      "metadata": {
        "id": "KSlN3yHqYklG"
      }
    },
    {
      "cell_type": "code",
      "source": [
        "# Chart - 2 visualization code\n",
        "\n",
        "# Histogram: Distribution of Lead Time\n",
        "\n",
        "# Plotting histogram for the distribution of lead time\n",
        "plt.figure(figsize=(8, 4))\n",
        "plt.hist(hotel_df['lead_time'], bins=30, edgecolor='black', alpha=0.7)\n",
        "plt.title('Histogram: Distribution of Lead Time')\n",
        "plt.xlabel('Lead Time (days)')\n",
        "plt.ylabel('Frequency')\n",
        "plt.grid(True)\n",
        "plt.show()"
      ],
      "metadata": {
        "id": "R4YgtaqtYklH",
        "colab": {
          "base_uri": "https://localhost:8080/",
          "height": 410
        },
        "outputId": "be15d560-a2ad-4e58-a75c-4c804ccb33c2"
      },
      "execution_count": 27,
      "outputs": [
        {
          "output_type": "display_data",
          "data": {
            "text/plain": [
              "<Figure size 800x400 with 1 Axes>"
            ],
            "image/png": "[encoded data removed]"
          },
          "metadata": {}
        }
      ]
    },
    {
      "cell_type": "markdown",
      "source": [
        "##### 1. Why did you pick the specific chart?"
      ],
      "metadata": {
        "id": "t6dVpIINYklI"
      }
    },
    {
      "cell_type": "markdown",
      "source": [
        "I chose a histogram for the distribution of lead times because it effectively shows how lead times are distributed across different ranges. This visualization helps in understanding the spread and frequency of bookings made in advance versus those made closer to the date of stay."
      ],
      "metadata": {
        "id": "5aaW0BYyYklI"
      }
    },
    {
      "cell_type": "markdown",
      "source": [
        "##### 2. What is/are the insight(s) found from the chart?"
      ],
      "metadata": {
        "id": "ijmpgYnKYklI"
      }
    },
    {
      "cell_type": "markdown",
      "source": [
        "The histogram reveals a peak at 0 lead times, indicating that most bookings are made very close to the date of stay. This suggests that a significant number of guests book last-minute. If there is a spread across longer lead times, it would show that some guests plan their stays well in advance."
      ],
      "metadata": {
        "id": "PSx9atu2YklI"
      }
    },
    {
      "cell_type": "markdown",
      "source": [
        "##### 3. Will the gained insights help creating a positive business impact?\n",
        "Are there any insights that lead to negative growth? Justify with specific reason."
      ],
      "metadata": {
        "id": "-JiQyfWJYklI"
      }
    },
    {
      "cell_type": "markdown",
      "source": [
        "Yes, understanding lead time distribution can assist in optimizing inventory management and pricing strategies. For instance, if most bookings are last-minute, the business might consider implementing last-minute promotions or adjusting pricing strategies to maximize revenue."
      ],
      "metadata": {
        "id": "BcBbebzrYklV"
      }
    },
    {
      "cell_type": "markdown",
      "source": [
        "#### Chart - 3"
      ],
      "metadata": {
        "id": "EM7whBJCYoAo"
      }
    },
    {
      "cell_type": "code",
      "source": [
        "# Chart - 3 visualization code\n",
        "\n",
        "# Line Chart: Distribution of ADR (Average Daily Rate) by Month\n",
        "\n",
        "# Plot the line chart\n",
        "plt.figure(figsize=(8, 4))\n",
        "plt.plot(adr_by_month.index, adr_by_month.values, marker='o')\n",
        "plt.xticks(list(adr_by_month.index), rotation=45)\n",
        "plt.title('Average Daily Rate (ADR) by Month')\n",
        "plt.xlabel('Month')\n",
        "plt.ylabel('Average Daily Rate (ADR)')\n",
        "plt.grid(True)\n",
        "plt.tight_layout()\n",
        "plt.show()"
      ],
      "metadata": {
        "id": "t6GMdE67YoAp",
        "colab": {
          "base_uri": "https://localhost:8080/",
          "height": 407
        },
        "outputId": "64c5290d-a5cd-4eca-d360-7d584cb32f9d"
      },
      "execution_count": 28,
      "outputs": [
        {
          "output_type": "display_data",
          "data": {
            "text/plain": [
              "<Figure size 800x400 with 1 Axes>"
            ],
            "image/png": "[encoded data removed]"
          },
          "metadata": {}
        }
      ]
    },
    {
      "cell_type": "markdown",
      "source": [
        "##### 1. Why did you pick the specific chart?"
      ],
      "metadata": {
        "id": "fge-S5ZAYoAp"
      }
    },
    {
      "cell_type": "markdown",
      "source": [
        "The line chart is chosen because it effectively shows trends over time. By plotting the ADR (Average Daily Rate) across different months, we can observe how the ADR changes throughout the year, highlighting any seasonal patterns."
      ],
      "metadata": {
        "id": "5dBItgRVYoAp"
      }
    },
    {
      "cell_type": "markdown",
      "source": [
        "##### 2. What is/are the insight(s) found from the chart?"
      ],
      "metadata": {
        "id": "85gYPyotYoAp"
      }
    },
    {
      "cell_type": "markdown",
      "source": [
        "The chart reveals that August has the highest ADR, indicating that room rates are generally higher in this month. Conversely, January has the lowest ADR, suggesting that room rates are typically lower at the beginning of the year. This trend can reflect seasonal demand variations and pricing strategies."
      ],
      "metadata": {
        "id": "4jstXR6OYoAp"
      }
    },
    {
      "cell_type": "markdown",
      "source": [
        "##### 3. Will the gained insights help creating a positive business impact?\n",
        "Are there any insights that lead to negative growth? Justify with specific reason."
      ],
      "metadata": {
        "id": "RoGjAbkUYoAp"
      }
    },
    {
      "cell_type": "markdown",
      "source": [
        "Yes, understanding the seasonal trends in ADR can help in optimizing pricing strategies. By identifying months with higher or lower ADR, the hotel can adjust its pricing to maximize revenue, offer targeted promotions, and improve overall profitability."
      ],
      "metadata": {
        "id": "zfJ8IqMcYoAp"
      }
    },
    {
      "cell_type": "markdown",
      "source": [
        "#### Chart - 4"
      ],
      "metadata": {
        "id": "4Of9eVA-YrdM"
      }
    },
    {
      "cell_type": "code",
      "source": [
        "# Chart - 4 visualization code\n",
        "\n",
        "# Bar Chart: Top 10 Countries by Number of Bookings\n",
        "\n",
        "# Plotting the bar chart for the top 10 countries by number of bookings\n",
        "plt.figure(figsize=(8, 4))\n",
        "top_countries.plot(kind='bar', color='skyblue')\n",
        "plt.title('Top 10 Countries by Number of Bookings')\n",
        "plt.xlabel('Country')\n",
        "plt.ylabel('Number of Bookings')\n",
        "plt.xticks(rotation=45)\n",
        "plt.grid(axis='y', linestyle='--', alpha=0.7)\n",
        "plt.show()"
      ],
      "metadata": {
        "id": "irlUoxc8YrdO",
        "colab": {
          "base_uri": "https://localhost:8080/",
          "height": 427
        },
        "outputId": "b255d418-9119-475d-cbfd-369a63b69a06"
      },
      "execution_count": 30,
      "outputs": [
        {
          "output_type": "display_data",
          "data": {
            "text/plain": [
              "<Figure size 800x400 with 1 Axes>"
            ],
            "image/png": "[encoded data removed]"
          },
          "metadata": {}
        }
      ]
    },
    {
      "cell_type": "markdown",
      "source": [
        "##### 1. Why did you pick the specific chart?"
      ],
      "metadata": {
        "id": "iky9q4vBYrdO"
      }
    },
    {
      "cell_type": "markdown",
      "source": [
        "A bar chart is ideal for visualizing the distribution of bookings across different countries as it clearly shows the relative size of each category, making it easy to compare the top 10 countries."
      ],
      "metadata": {
        "id": "aJRCwT6DYrdO"
      }
    },
    {
      "cell_type": "markdown",
      "source": [
        "##### 2. What is/are the insight(s) found from the chart?"
      ],
      "metadata": {
        "id": "F6T5p64dYrdO"
      }
    },
    {
      "cell_type": "markdown",
      "source": [
        "The bar chart reveals the top 10 countries with the highest number of bookings, allowing us to identify which countries are the most significant sources of bookings. For instance, Portugal (PRT) has the highest number of bookings, followed by the United Kingdom (GBR) and France (FRA). This insight helps in understanding where the majority of bookings are coming from."
      ],
      "metadata": {
        "id": "Xx8WAJvtYrdO"
      }
    },
    {
      "cell_type": "markdown",
      "source": [
        "##### 3. Will the gained insights help creating a positive business impact?\n",
        "Are there any insights that lead to negative growth? Justify with specific reason."
      ],
      "metadata": {
        "id": "y-Ehk30pYrdP"
      }
    },
    {
      "cell_type": "markdown",
      "source": [
        "Yes, knowing the top countries can help tailor marketing efforts and promotions to these regions, allocate resources effectively, and improve customer targeting strategies to boost bookings from high-performing areas"
      ],
      "metadata": {
        "id": "jLNxxz7MYrdP"
      }
    },
    {
      "cell_type": "markdown",
      "source": [
        "#### Chart - 5"
      ],
      "metadata": {
        "id": "bamQiAODYuh1"
      }
    },
    {
      "cell_type": "code",
      "source": [
        "# Chart - 5 visualization code\n",
        "\n",
        "# Pie Chart: Distribution of Meal Types\n",
        "meal_type_distribution.plot(kind='pie', autopct='%1.1f%%', startangle=140, figsize=(8, 4))\n",
        "# Add title\n",
        "plt.title('Distribution of Meal Types')\n",
        "# Display the chart\n",
        "plt.show()"
      ],
      "metadata": {
        "id": "TIJwrbroYuh3",
        "colab": {
          "base_uri": "https://localhost:8080/",
          "height": 367
        },
        "outputId": "83437d06-bb79-4f19-e9a3-7bef01b3a328"
      },
      "execution_count": 31,
      "outputs": [
        {
          "output_type": "display_data",
          "data": {
            "text/plain": [
              "<Figure size 800x400 with 1 Axes>"
            ],
            "image/png": "[encoded data removed]"
          },
          "metadata": {}
        }
      ]
    },
    {
      "cell_type": "markdown",
      "source": [
        "##### 1. Why did you pick the specific chart?"
      ],
      "metadata": {
        "id": "QHF8YVU7Yuh3"
      }
    },
    {
      "cell_type": "markdown",
      "source": [
        "The pie chart is selected to visually represent the distribution of meal types among guests. It effectively shows the proportion of each meal type as a part of the whole, which is ideal for understanding how meal preferences are distributed."
      ],
      "metadata": {
        "id": "dcxuIMRPYuh3"
      }
    },
    {
      "cell_type": "markdown",
      "source": [
        "##### 2. What is/are the insight(s) found from the chart?"
      ],
      "metadata": {
        "id": "GwzvFGzlYuh3"
      }
    },
    {
      "cell_type": "markdown",
      "source": [
        "The pie chart reveals the proportion of each meal type opted for by guests. Insights include identifying the most and least popular meal types. The pie chart shows that \"BB\" (Bed & Breakfast) is the most common meal type, it indicates a preference among guests for this option over others."
      ],
      "metadata": {
        "id": "uyqkiB8YYuh3"
      }
    },
    {
      "cell_type": "markdown",
      "source": [
        "##### 3. Will the gained insights help creating a positive business impact?\n",
        "Are there any insights that lead to negative growth? Justify with specific reason."
      ],
      "metadata": {
        "id": "qYpmQ266Yuh3"
      }
    },
    {
      "cell_type": "markdown",
      "source": [
        "Yes, understanding meal type preferences can help in various ways:\n",
        "\n",
        "Menu Planning: Tailoring the meal options to match the most preferred types can enhance guest satisfaction.\n",
        "Marketing and Promotions: Highlighting popular meal options in marketing campaigns or promotions can attract more guests.\n",
        "Operational Efficiency: Better planning of food supplies and staffing based on meal preferences can lead to cost savings and improved service quality."
      ],
      "metadata": {
        "id": "_WtzZ_hCYuh4"
      }
    },
    {
      "cell_type": "markdown",
      "source": [
        "## **5. Solution to Business Objective**"
      ],
      "metadata": {
        "id": "JcMwzZxoAimU"
      }
    },
    {
      "cell_type": "markdown",
      "source": [
        "#### What do you suggest the client to achieve Business Objective ?\n",
        "Explain Briefly."
      ],
      "metadata": {
        "id": "8G2x9gOozGDZ"
      }
    },
    {
      "cell_type": "markdown",
      "source": [
        "To help the client achieve their business objectives, the following strategies are recommended based on the comprehensive data analysis:\n",
        "\n",
        "####**Optimize Marketing Strategies:**\n",
        "\n",
        "**Target Popular Meal Types:** Focus marketing efforts on the most popular meal types, such as Bed & Breakfast, which is the preferred choice among guests. Highlight these meal options prominently in promotional materials and on booking platforms to attract more bookings.\n",
        "\n",
        "**Peak Booking Seasons:** Tailor marketing campaigns to align with peak booking months like August and July. By concentrating promotional efforts during these high-demand periods, the client can maximize bookings and revenue.\n",
        "\n",
        "####**Improve Operational Efficiency:**\n",
        "\n",
        "**Adjust Staffing and Supplies:** Utilize insights on meal preferences and booking patterns to optimize staffing levels and manage food supplies more effectively. This approach will help in reducing operational costs and improving overall guest satisfaction.\n",
        "\n",
        "**Handle Lead Times:** Implement strategies to cater to both short and long lead times. Offer incentives for early bookings to encourage advance reservations while preparing for last-minute bookings to ensure high occupancy rates.\n",
        "\n",
        "####**Enhance Customer Experience:**\n",
        "\n",
        "**Personalized Offers:** Leverage booking and meal preference data to create personalized offers and packages for guests. Tailoring experiences based on individual preferences can enhance satisfaction and foster guest loyalty.\n",
        "\n",
        "**Geographic Targeting:** Focus marketing efforts on top booking countries such as Portugal, the UK, and France. Develop targeted marketing campaigns or establish partnerships in these key markets to attract more international guests and expand the customer base.\n",
        "\n",
        "\n",
        "By applying these data-driven insights, the client can make informed decisions to optimize their marketing strategies, improve operational efficiency, and enhance customer experiences, thereby achieving their business objectives more effectively."
      ],
      "metadata": {
        "id": "pASKb0qOza21"
      }
    },
    {
      "cell_type": "markdown",
      "source": [
        "# **Conclusion**"
      ],
      "metadata": {
        "id": "gCX9965dhzqZ"
      }
    },
    {
      "cell_type": "markdown",
      "source": [
        "The Hotel Booking Analysis project has provided valuable insights into various aspects of hotel operations, from booking patterns and guest preferences to pricing strategies and geographic distribution. The analysis revealed key findings that can significantly impact the hotel's business decisions:\n",
        "\n",
        "**Optimizing Operations:** By understanding peak booking seasons, lead times, and meal preferences, the hotel can better manage resources, including staffing and inventory, to improve efficiency and guest satisfaction.\n",
        "\n",
        "**Strategic Marketing:** Insights into the top booking countries and popular meal types allow for targeted marketing campaigns, helping the hotel attract more guests and enhance its global reach.\n",
        "\n",
        "**Revenue Management:** The analysis of ADR across different months highlights the need for dynamic pricing strategies to maximize revenue during high-demand periods and attract guests during off-peak times.\n",
        "\n",
        "**Reducing Cancellations:** Identifying patterns in booking cancellations enables the hotel to implement measures that reduce the cancellation rate, thereby stabilizing revenue and improving the booking experience.\n",
        "\n",
        "**Enhancing Guest Retention:** With a better understanding of guest preferences and the behavior of repeated guests, the hotel can develop personalized offers and loyalty programs to increase guest retention and repeat bookings.\n",
        "\n",
        "Overall, the insights gained from this analysis equip the hotel with the knowledge to make data-driven decisions that align with its business objectives. By implementing these strategies, the hotel can improve its market position, enhance guest experiences, and achieve sustainable growth."
      ],
      "metadata": {
        "id": "Fjb1IsQkh3yE"
      }
    },
    {
      "cell_type": "markdown",
      "source": [
        "### ***Hurrah! You have successfully completed your EDA Capstone Project !!!***"
      ],
      "metadata": {
        "id": "gIfDvo9L0UH2"
      }
    }
  ]
}